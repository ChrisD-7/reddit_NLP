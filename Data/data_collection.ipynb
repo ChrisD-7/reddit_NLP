{
 "cells": [
  {
   "cell_type": "code",
   "execution_count": 29,
   "metadata": {},
   "outputs": [
    {
     "name": "stdout",
     "output_type": "stream",
     "text": [
      "Fetching page 1\n",
      "Fetching page 2\n",
      "Fetching page 3\n"
     ]
    },
    {
     "ename": "KeyboardInterrupt",
     "evalue": "",
     "output_type": "error",
     "traceback": [
      "\u001b[1;31m---------------------------------------------------------------------------\u001b[0m",
      "\u001b[1;31mKeyboardInterrupt\u001b[0m                         Traceback (most recent call last)",
      "Cell \u001b[1;32mIn[29], line 25\u001b[0m\n\u001b[0;32m     23\u001b[0m         \u001b[38;5;28mprint\u001b[39m(\u001b[38;5;124m'\u001b[39m\u001b[38;5;124mStatus Code Error\u001b[39m\u001b[38;5;124m'\u001b[39m, response\u001b[38;5;241m.\u001b[39mstatus_code)\n\u001b[0;32m     24\u001b[0m         \u001b[38;5;28;01mbreak\u001b[39;00m\n\u001b[1;32m---> 25\u001b[0m     \u001b[43mtime\u001b[49m\u001b[38;5;241;43m.\u001b[39;49m\u001b[43msleep\u001b[49m\u001b[43m(\u001b[49m\u001b[38;5;241;43m1\u001b[39;49m\u001b[43m)\u001b[49m  \u001b[38;5;66;03m# Sleep to avoid hitting rate limit\u001b[39;00m\n\u001b[0;32m     27\u001b[0m \u001b[38;5;66;03m# Extract relevant data from posts\u001b[39;00m\n\u001b[0;32m     28\u001b[0m post_data \u001b[38;5;241m=\u001b[39m [{\n\u001b[0;32m     29\u001b[0m     \u001b[38;5;124m'\u001b[39m\u001b[38;5;124mtitle\u001b[39m\u001b[38;5;124m'\u001b[39m: post[\u001b[38;5;124m'\u001b[39m\u001b[38;5;124mdata\u001b[39m\u001b[38;5;124m'\u001b[39m][\u001b[38;5;124m'\u001b[39m\u001b[38;5;124mtitle\u001b[39m\u001b[38;5;124m'\u001b[39m],\n\u001b[0;32m     30\u001b[0m     \u001b[38;5;124m'\u001b[39m\u001b[38;5;124mscore\u001b[39m\u001b[38;5;124m'\u001b[39m: post[\u001b[38;5;124m'\u001b[39m\u001b[38;5;124mdata\u001b[39m\u001b[38;5;124m'\u001b[39m][\u001b[38;5;124m'\u001b[39m\u001b[38;5;124mscore\u001b[39m\u001b[38;5;124m'\u001b[39m],\n\u001b[1;32m   (...)\u001b[0m\n\u001b[0;32m     34\u001b[0m     \u001b[38;5;124m'\u001b[39m\u001b[38;5;124mbody\u001b[39m\u001b[38;5;124m'\u001b[39m: post[\u001b[38;5;124m'\u001b[39m\u001b[38;5;124mdata\u001b[39m\u001b[38;5;124m'\u001b[39m]\u001b[38;5;241m.\u001b[39mget(\u001b[38;5;124m'\u001b[39m\u001b[38;5;124mselftext\u001b[39m\u001b[38;5;124m'\u001b[39m, \u001b[38;5;124m'\u001b[39m\u001b[38;5;124m'\u001b[39m)  \u001b[38;5;66;03m# Use get to avoid KeyError if 'selftext' is missing\u001b[39;00m\n\u001b[0;32m     35\u001b[0m } \u001b[38;5;28;01mfor\u001b[39;00m post \u001b[38;5;129;01min\u001b[39;00m rutgers_posts]\n",
      "\u001b[1;31mKeyboardInterrupt\u001b[0m: "
     ]
    }
   ],
   "source": [
    "import requests\n",
    "import time\n",
    "import pandas as pd\n",
    "\n",
    "# Rutgers subreddit URL\n",
    "rutgers_url = 'https://www.reddit.com/r/rutgers/.json'\n",
    "# User-agent header to mimic a browser\n",
    "headers = {'User-agent': 'Mozilla/5.0'}\n",
    "\n",
    "rutgers_posts = []\n",
    "after = None\n",
    "\n",
    "for i in range(10000):  # Loop to fetch up to 10000 pages\n",
    "    print(f\"Fetching page {i + 1}\")\n",
    "    params = {'after': after} if after else {}\n",
    "    \n",
    "    response = requests.get(rutgers_url, params=params, headers=headers)\n",
    "    if response.status_code == 200:\n",
    "        json_data = response.json()\n",
    "        rutgers_posts.extend(json_data['data']['children'])\n",
    "        after = json_data['data'].get('after')  # Update the 'after' for pagination\n",
    "    else:\n",
    "        print('Status Code Error', response.status_code)\n",
    "        break\n",
    "    time.sleep(1)  # Sleep to avoid hitting rate limit\n",
    "\n",
    "# Extract relevant data from posts\n",
    "post_data = [{\n",
    "    'title': post['data']['title'],\n",
    "    'score': post['data']['score'],  # Net karma (upvotes - downvotes)\n",
    "    'ups': post['data']['ups'],  # Total upvotes (this field is not always visible depending on the data access method)\n",
    "    'downvotes': post['data']['ups'] - post['data']['score'],  # Calculated downvotes\n",
    "    'id': post['data']['id'],\n",
    "    'url': post['data']['url'],\n",
    "    'created': post['data']['created_utc'],  # 'created_utc' for the UTC timestamp\n",
    "    'body': post['data'].get('selftext', '')  # Use get to avoid KeyError if 'selftext' is missing\n",
    "} for post in rutgers_posts]\n",
    "\n",
    "\n",
    "# Create a DataFrame\n",
    "df = pd.DataFrame(post_data)\n",
    "\n",
    "# Print DataFrame to see if data looks correct\n",
    "print(df.head())\n",
    "\n"
   ]
  },
  {
   "cell_type": "code",
   "execution_count": 28,
   "metadata": {},
   "outputs": [
    {
     "data": {
      "text/plain": [
       "(2477, 6)"
      ]
     },
     "execution_count": 28,
     "metadata": {},
     "output_type": "execute_result"
    }
   ],
   "source": [
    "df.shape"
   ]
  },
  {
   "cell_type": "code",
   "execution_count": 26,
   "metadata": {},
   "outputs": [
    {
     "name": "stdout",
     "output_type": "stream",
     "text": [
      "Data saved to rutgers_posts.csv\n"
     ]
    }
   ],
   "source": [
    "# Save DataFrame to CSV\n",
    "df.to_csv('rutgers_posts.csv', index=False)\n",
    "print(\"Data saved to rutgers_posts.csv\")"
   ]
  }
 ],
 "metadata": {
  "kernelspec": {
   "display_name": "Python 3",
   "language": "python",
   "name": "python3"
  },
  "language_info": {
   "codemirror_mode": {
    "name": "ipython",
    "version": 3
   },
   "file_extension": ".py",
   "mimetype": "text/x-python",
   "name": "python",
   "nbconvert_exporter": "python",
   "pygments_lexer": "ipython3",
   "version": "3.12.0"
  }
 },
 "nbformat": 4,
 "nbformat_minor": 2
}
