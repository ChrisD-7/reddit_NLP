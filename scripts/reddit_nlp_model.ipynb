{
  "cells": [
    {
      "cell_type": "markdown",
      "metadata": {
        "id": "nFNIqGjNrdcL"
      },
      "source": [
        "# Imports"
      ]
    },
    {
      "cell_type": "code",
      "execution_count": null,
      "metadata": {
        "id": "Psg-s0H7Ikpz",
        "colab": {
          "base_uri": "https://localhost:8080/"
        },
        "outputId": "f98981c4-24f7-4f4e-ffc8-d337bbfbe375"
      },
      "outputs": [
        {
          "output_type": "stream",
          "name": "stdout",
          "text": [
            "Collecting emoji\n",
            "  Downloading emoji-2.11.1-py2.py3-none-any.whl (433 kB)\n",
            "\u001b[2K     \u001b[90m━━━━━━━━━━━━━━━━━━━━━━━━━━━━━━━━━━━━━━━━\u001b[0m \u001b[32m433.8/433.8 kB\u001b[0m \u001b[31m4.2 MB/s\u001b[0m eta \u001b[36m0:00:00\u001b[0m\n",
            "\u001b[?25hInstalling collected packages: emoji\n",
            "Successfully installed emoji-2.11.1\n"
          ]
        }
      ],
      "source": [
        "pip install emoji"
      ]
    },
    {
      "cell_type": "code",
      "execution_count": null,
      "metadata": {
        "id": "-kioh5ytrZ-b"
      },
      "outputs": [],
      "source": [
        "import re\n",
        "import tqdm\n",
        "import keras\n",
        "import numpy as np\n",
        "import pandas as pd\n",
        "\n",
        "import google.generativeai as genai\n",
        "import google.ai.generativelanguage as glm\n",
        "\n",
        "# Used to securely store your API key\n",
        "from google.colab import userdata\n",
        "\n",
        "import seaborn as sns\n",
        "import matplotlib.pyplot as plt\n",
        "\n",
        "from keras import layers\n",
        "from matplotlib.ticker import MaxNLocator\n",
        "from sklearn.datasets import fetch_20newsgroups\n",
        "import sklearn.metrics as skmetrics"
      ]
    },
    {
      "cell_type": "markdown",
      "metadata": {
        "id": "1nGS3K7MriNU"
      },
      "source": [
        "#Setting UP API"
      ]
    },
    {
      "cell_type": "code",
      "execution_count": null,
      "metadata": {
        "id": "613LSThdrgsJ"
      },
      "outputs": [],
      "source": [
        "# Or use `os.getenv('API_KEY')` to fetch an environment variable.\n",
        "API_KEY=userdata.get('API_KEY')\n",
        "\n",
        "genai.configure(api_key=API_KEY)"
      ]
    },
    {
      "cell_type": "markdown",
      "metadata": {
        "id": "GUKXzUa7rlQv"
      },
      "source": [
        "## Getting list of Models"
      ]
    },
    {
      "cell_type": "code",
      "execution_count": null,
      "metadata": {
        "id": "sc1CRxL5rj36",
        "colab": {
          "base_uri": "https://localhost:8080/",
          "height": 52
        },
        "outputId": "4382029f-0c53-4136-b66c-21a58851adb2"
      },
      "outputs": [
        {
          "output_type": "stream",
          "name": "stdout",
          "text": [
            "models/embedding-001\n",
            "models/text-embedding-004\n"
          ]
        }
      ],
      "source": [
        "for m in genai.list_models():\n",
        "  if 'embedContent' in m.supported_generation_methods:\n",
        "    print(m.name)"
      ]
    },
    {
      "cell_type": "markdown",
      "metadata": {
        "id": "ZokSR-mbrwAu"
      },
      "source": [
        "## Selecting Model"
      ]
    },
    {
      "cell_type": "code",
      "execution_count": null,
      "metadata": {
        "id": "psWvpuCorx89"
      },
      "outputs": [],
      "source": [
        "model = 'models/embedding-001'"
      ]
    },
    {
      "cell_type": "markdown",
      "metadata": {
        "id": "Q-Yg9SAisIZI"
      },
      "source": [
        "# Data Prep"
      ]
    },
    {
      "cell_type": "code",
      "execution_count": null,
      "metadata": {
        "id": "WbbBHn_Fxfwx"
      },
      "outputs": [],
      "source": [
        "# Load and prepare data\n",
        "def load_data(file_path, subreddit_name):\n",
        "    data = pd.read_csv(file_path)\n",
        "    data['subreddit'] = subreddit_name\n",
        "    return data\n",
        "\n",
        "rutgers_data = load_data('/content/drive/MyDrive/Projects /ML for DS/data/rutgers_submission.csv', 'Rutgers')\n",
        "upenn_data = load_data('/content/drive/MyDrive/Projects /ML for DS/data/UPenn_submission.csv', 'UPenn')\n",
        "\n",
        "# Combine and filter data\n",
        "combined_data = pd.concat([rutgers_data, upenn_data], ignore_index=True)\n",
        "combined_data['created'] = pd.to_datetime(combined_data['created'])\n",
        "\n",
        "filtered_data = combined_data[(combined_data['subreddit'].isin(['Rutgers', 'UPenn'])) &\n",
        "                              (combined_data['created'].dt.year.isin([2021, 2022]))]"
      ]
    },
    {
      "cell_type": "code",
      "execution_count": null,
      "metadata": {
        "id": "LGdBX-ttsXiN",
        "colab": {
          "base_uri": "https://localhost:8080/",
          "height": 632
        },
        "outputId": "cbfe0b6e-b4a6-46a1-d17b-08b26e322b64"
      },
      "outputs": [
        {
          "output_type": "execute_result",
          "data": {
            "text/plain": [
              "                  author                                              title  \\\n",
              "88212        u/[deleted]                               Some of you liberals   \n",
              "88213     u/Ozymandias--  Rutgers officially announces plans to re-open ...   \n",
              "88214        u/[deleted]                  what should i do in terms of P/NC   \n",
              "88215       u/kingcam321                               Syllabus for Orgo 2?   \n",
              "88216        u/[deleted]  Is Jimenez going to post the results to the Fi...   \n",
              "...                  ...                                                ...   \n",
              "151909  u/softalmondmilk                                 SUPPLEMENTAL ESSAY   \n",
              "151910  u/softalmondmilk                                        ISP and BFS   \n",
              "151911       u/[deleted]                      Is my schedule too much work?   \n",
              "151912     u/itsamayzing  Does anyone know what topics are covered in ST...   \n",
              "151913       u/[deleted]  Does Anyone Here use the universities HSA heal...   \n",
              "\n",
              "        score             created  \\\n",
              "88212       0 2021-01-01 05:40:00   \n",
              "88213     357 2021-01-01 06:48:00   \n",
              "88214       6 2021-01-01 09:41:00   \n",
              "88215       7 2021-01-01 11:09:00   \n",
              "88216       4 2021-01-01 11:10:00   \n",
              "...       ...                 ...   \n",
              "151909      1 2022-12-31 03:56:00   \n",
              "151910      3 2022-12-31 10:13:00   \n",
              "151911      1 2022-12-31 12:47:00   \n",
              "151912      5 2022-12-31 16:24:00   \n",
              "151913      1 2022-12-31 18:50:00   \n",
              "\n",
              "                                                     link  \\\n",
              "88212   https://www.reddit.com/r/rutgers/comments/ko9a...   \n",
              "88213   https://www.reddit.com/r/rutgers/comments/koa2...   \n",
              "88214   https://www.reddit.com/r/rutgers/comments/koca...   \n",
              "88215   https://www.reddit.com/r/rutgers/comments/kodp...   \n",
              "88216   https://www.reddit.com/r/rutgers/comments/kodq...   \n",
              "...                                                   ...   \n",
              "151909  https://www.reddit.com/r/UPenn/comments/zzpsgn...   \n",
              "151910  https://www.reddit.com/r/UPenn/comments/zzw6fa...   \n",
              "151911  https://www.reddit.com/r/UPenn/comments/zzzhvj...   \n",
              "151912  https://www.reddit.com/r/UPenn/comments/100425...   \n",
              "151913  https://www.reddit.com/r/UPenn/comments/1006xk...   \n",
              "\n",
              "                                                     text  \\\n",
              "88212                                           [removed]   \n",
              "88213                                                 NaN   \n",
              "88214                                           [deleted]   \n",
              "88215   Does anyone have the syllabus for orgo 2? I di...   \n",
              "88216                                           [deleted]   \n",
              "...                                                   ...   \n",
              "151909                                          [removed]   \n",
              "151910  I was hoping to know if ISP is still offered f...   \n",
              "151911                                          [deleted]   \n",
              "151912  Going straight into stat 1020 because I had a ...   \n",
              "151913                                          [deleted]   \n",
              "\n",
              "                                                      url subreddit  \n",
              "88212   https://www.reddit.com/r/rutgers/comments/ko9a...   Rutgers  \n",
              "88213   https://newbrunswicktoday.com/2020/12/31/rutge...   Rutgers  \n",
              "88214   https://www.reddit.com/r/rutgers/comments/koca...   Rutgers  \n",
              "88215   https://www.reddit.com/r/rutgers/comments/kodp...   Rutgers  \n",
              "88216   https://www.reddit.com/r/rutgers/comments/kodq...   Rutgers  \n",
              "...                                                   ...       ...  \n",
              "151909  https://www.reddit.com/r/UPenn/comments/zzpsgn...     UPenn  \n",
              "151910  https://www.reddit.com/r/UPenn/comments/zzw6fa...     UPenn  \n",
              "151911                                                NaN     UPenn  \n",
              "151912  https://www.reddit.com/r/UPenn/comments/100425...     UPenn  \n",
              "151913                                                NaN     UPenn  \n",
              "\n",
              "[51942 rows x 8 columns]"
            ],
            "text/html": [
              "\n",
              "  <div id=\"df-4cbacf01-e3b2-4e60-819c-2eb3a89099a9\" class=\"colab-df-container\">\n",
              "    <div>\n",
              "<style scoped>\n",
              "    .dataframe tbody tr th:only-of-type {\n",
              "        vertical-align: middle;\n",
              "    }\n",
              "\n",
              "    .dataframe tbody tr th {\n",
              "        vertical-align: top;\n",
              "    }\n",
              "\n",
              "    .dataframe thead th {\n",
              "        text-align: right;\n",
              "    }\n",
              "</style>\n",
              "<table border=\"1\" class=\"dataframe\">\n",
              "  <thead>\n",
              "    <tr style=\"text-align: right;\">\n",
              "      <th></th>\n",
              "      <th>author</th>\n",
              "      <th>title</th>\n",
              "      <th>score</th>\n",
              "      <th>created</th>\n",
              "      <th>link</th>\n",
              "      <th>text</th>\n",
              "      <th>url</th>\n",
              "      <th>subreddit</th>\n",
              "    </tr>\n",
              "  </thead>\n",
              "  <tbody>\n",
              "    <tr>\n",
              "      <th>88212</th>\n",
              "      <td>u/[deleted]</td>\n",
              "      <td>Some of you liberals</td>\n",
              "      <td>0</td>\n",
              "      <td>2021-01-01 05:40:00</td>\n",
              "      <td>https://www.reddit.com/r/rutgers/comments/ko9a...</td>\n",
              "      <td>[removed]</td>\n",
              "      <td>https://www.reddit.com/r/rutgers/comments/ko9a...</td>\n",
              "      <td>Rutgers</td>\n",
              "    </tr>\n",
              "    <tr>\n",
              "      <th>88213</th>\n",
              "      <td>u/Ozymandias--</td>\n",
              "      <td>Rutgers officially announces plans to re-open ...</td>\n",
              "      <td>357</td>\n",
              "      <td>2021-01-01 06:48:00</td>\n",
              "      <td>https://www.reddit.com/r/rutgers/comments/koa2...</td>\n",
              "      <td>NaN</td>\n",
              "      <td>https://newbrunswicktoday.com/2020/12/31/rutge...</td>\n",
              "      <td>Rutgers</td>\n",
              "    </tr>\n",
              "    <tr>\n",
              "      <th>88214</th>\n",
              "      <td>u/[deleted]</td>\n",
              "      <td>what should i do in terms of P/NC</td>\n",
              "      <td>6</td>\n",
              "      <td>2021-01-01 09:41:00</td>\n",
              "      <td>https://www.reddit.com/r/rutgers/comments/koca...</td>\n",
              "      <td>[deleted]</td>\n",
              "      <td>https://www.reddit.com/r/rutgers/comments/koca...</td>\n",
              "      <td>Rutgers</td>\n",
              "    </tr>\n",
              "    <tr>\n",
              "      <th>88215</th>\n",
              "      <td>u/kingcam321</td>\n",
              "      <td>Syllabus for Orgo 2?</td>\n",
              "      <td>7</td>\n",
              "      <td>2021-01-01 11:09:00</td>\n",
              "      <td>https://www.reddit.com/r/rutgers/comments/kodp...</td>\n",
              "      <td>Does anyone have the syllabus for orgo 2? I di...</td>\n",
              "      <td>https://www.reddit.com/r/rutgers/comments/kodp...</td>\n",
              "      <td>Rutgers</td>\n",
              "    </tr>\n",
              "    <tr>\n",
              "      <th>88216</th>\n",
              "      <td>u/[deleted]</td>\n",
              "      <td>Is Jimenez going to post the results to the Fi...</td>\n",
              "      <td>4</td>\n",
              "      <td>2021-01-01 11:10:00</td>\n",
              "      <td>https://www.reddit.com/r/rutgers/comments/kodq...</td>\n",
              "      <td>[deleted]</td>\n",
              "      <td>https://www.reddit.com/r/rutgers/comments/kodq...</td>\n",
              "      <td>Rutgers</td>\n",
              "    </tr>\n",
              "    <tr>\n",
              "      <th>...</th>\n",
              "      <td>...</td>\n",
              "      <td>...</td>\n",
              "      <td>...</td>\n",
              "      <td>...</td>\n",
              "      <td>...</td>\n",
              "      <td>...</td>\n",
              "      <td>...</td>\n",
              "      <td>...</td>\n",
              "    </tr>\n",
              "    <tr>\n",
              "      <th>151909</th>\n",
              "      <td>u/softalmondmilk</td>\n",
              "      <td>SUPPLEMENTAL ESSAY</td>\n",
              "      <td>1</td>\n",
              "      <td>2022-12-31 03:56:00</td>\n",
              "      <td>https://www.reddit.com/r/UPenn/comments/zzpsgn...</td>\n",
              "      <td>[removed]</td>\n",
              "      <td>https://www.reddit.com/r/UPenn/comments/zzpsgn...</td>\n",
              "      <td>UPenn</td>\n",
              "    </tr>\n",
              "    <tr>\n",
              "      <th>151910</th>\n",
              "      <td>u/softalmondmilk</td>\n",
              "      <td>ISP and BFS</td>\n",
              "      <td>3</td>\n",
              "      <td>2022-12-31 10:13:00</td>\n",
              "      <td>https://www.reddit.com/r/UPenn/comments/zzw6fa...</td>\n",
              "      <td>I was hoping to know if ISP is still offered f...</td>\n",
              "      <td>https://www.reddit.com/r/UPenn/comments/zzw6fa...</td>\n",
              "      <td>UPenn</td>\n",
              "    </tr>\n",
              "    <tr>\n",
              "      <th>151911</th>\n",
              "      <td>u/[deleted]</td>\n",
              "      <td>Is my schedule too much work?</td>\n",
              "      <td>1</td>\n",
              "      <td>2022-12-31 12:47:00</td>\n",
              "      <td>https://www.reddit.com/r/UPenn/comments/zzzhvj...</td>\n",
              "      <td>[deleted]</td>\n",
              "      <td>NaN</td>\n",
              "      <td>UPenn</td>\n",
              "    </tr>\n",
              "    <tr>\n",
              "      <th>151912</th>\n",
              "      <td>u/itsamayzing</td>\n",
              "      <td>Does anyone know what topics are covered in ST...</td>\n",
              "      <td>5</td>\n",
              "      <td>2022-12-31 16:24:00</td>\n",
              "      <td>https://www.reddit.com/r/UPenn/comments/100425...</td>\n",
              "      <td>Going straight into stat 1020 because I had a ...</td>\n",
              "      <td>https://www.reddit.com/r/UPenn/comments/100425...</td>\n",
              "      <td>UPenn</td>\n",
              "    </tr>\n",
              "    <tr>\n",
              "      <th>151913</th>\n",
              "      <td>u/[deleted]</td>\n",
              "      <td>Does Anyone Here use the universities HSA heal...</td>\n",
              "      <td>1</td>\n",
              "      <td>2022-12-31 18:50:00</td>\n",
              "      <td>https://www.reddit.com/r/UPenn/comments/1006xk...</td>\n",
              "      <td>[deleted]</td>\n",
              "      <td>NaN</td>\n",
              "      <td>UPenn</td>\n",
              "    </tr>\n",
              "  </tbody>\n",
              "</table>\n",
              "<p>51942 rows × 8 columns</p>\n",
              "</div>\n",
              "    <div class=\"colab-df-buttons\">\n",
              "\n",
              "  <div class=\"colab-df-container\">\n",
              "    <button class=\"colab-df-convert\" onclick=\"convertToInteractive('df-4cbacf01-e3b2-4e60-819c-2eb3a89099a9')\"\n",
              "            title=\"Convert this dataframe to an interactive table.\"\n",
              "            style=\"display:none;\">\n",
              "\n",
              "  <svg xmlns=\"http://www.w3.org/2000/svg\" height=\"24px\" viewBox=\"0 -960 960 960\">\n",
              "    <path d=\"M120-120v-720h720v720H120Zm60-500h600v-160H180v160Zm220 220h160v-160H400v160Zm0 220h160v-160H400v160ZM180-400h160v-160H180v160Zm440 0h160v-160H620v160ZM180-180h160v-160H180v160Zm440 0h160v-160H620v160Z\"/>\n",
              "  </svg>\n",
              "    </button>\n",
              "\n",
              "  <style>\n",
              "    .colab-df-container {\n",
              "      display:flex;\n",
              "      gap: 12px;\n",
              "    }\n",
              "\n",
              "    .colab-df-convert {\n",
              "      background-color: #E8F0FE;\n",
              "      border: none;\n",
              "      border-radius: 50%;\n",
              "      cursor: pointer;\n",
              "      display: none;\n",
              "      fill: #1967D2;\n",
              "      height: 32px;\n",
              "      padding: 0 0 0 0;\n",
              "      width: 32px;\n",
              "    }\n",
              "\n",
              "    .colab-df-convert:hover {\n",
              "      background-color: #E2EBFA;\n",
              "      box-shadow: 0px 1px 2px rgba(60, 64, 67, 0.3), 0px 1px 3px 1px rgba(60, 64, 67, 0.15);\n",
              "      fill: #174EA6;\n",
              "    }\n",
              "\n",
              "    .colab-df-buttons div {\n",
              "      margin-bottom: 4px;\n",
              "    }\n",
              "\n",
              "    [theme=dark] .colab-df-convert {\n",
              "      background-color: #3B4455;\n",
              "      fill: #D2E3FC;\n",
              "    }\n",
              "\n",
              "    [theme=dark] .colab-df-convert:hover {\n",
              "      background-color: #434B5C;\n",
              "      box-shadow: 0px 1px 3px 1px rgba(0, 0, 0, 0.15);\n",
              "      filter: drop-shadow(0px 1px 2px rgba(0, 0, 0, 0.3));\n",
              "      fill: #FFFFFF;\n",
              "    }\n",
              "  </style>\n",
              "\n",
              "    <script>\n",
              "      const buttonEl =\n",
              "        document.querySelector('#df-4cbacf01-e3b2-4e60-819c-2eb3a89099a9 button.colab-df-convert');\n",
              "      buttonEl.style.display =\n",
              "        google.colab.kernel.accessAllowed ? 'block' : 'none';\n",
              "\n",
              "      async function convertToInteractive(key) {\n",
              "        const element = document.querySelector('#df-4cbacf01-e3b2-4e60-819c-2eb3a89099a9');\n",
              "        const dataTable =\n",
              "          await google.colab.kernel.invokeFunction('convertToInteractive',\n",
              "                                                    [key], {});\n",
              "        if (!dataTable) return;\n",
              "\n",
              "        const docLinkHtml = 'Like what you see? Visit the ' +\n",
              "          '<a target=\"_blank\" href=https://colab.research.google.com/notebooks/data_table.ipynb>data table notebook</a>'\n",
              "          + ' to learn more about interactive tables.';\n",
              "        element.innerHTML = '';\n",
              "        dataTable['output_type'] = 'display_data';\n",
              "        await google.colab.output.renderOutput(dataTable, element);\n",
              "        const docLink = document.createElement('div');\n",
              "        docLink.innerHTML = docLinkHtml;\n",
              "        element.appendChild(docLink);\n",
              "      }\n",
              "    </script>\n",
              "  </div>\n",
              "\n",
              "\n",
              "<div id=\"df-f8c44281-fd60-4612-bdee-ba22a8d12eef\">\n",
              "  <button class=\"colab-df-quickchart\" onclick=\"quickchart('df-f8c44281-fd60-4612-bdee-ba22a8d12eef')\"\n",
              "            title=\"Suggest charts\"\n",
              "            style=\"display:none;\">\n",
              "\n",
              "<svg xmlns=\"http://www.w3.org/2000/svg\" height=\"24px\"viewBox=\"0 0 24 24\"\n",
              "     width=\"24px\">\n",
              "    <g>\n",
              "        <path d=\"M19 3H5c-1.1 0-2 .9-2 2v14c0 1.1.9 2 2 2h14c1.1 0 2-.9 2-2V5c0-1.1-.9-2-2-2zM9 17H7v-7h2v7zm4 0h-2V7h2v10zm4 0h-2v-4h2v4z\"/>\n",
              "    </g>\n",
              "</svg>\n",
              "  </button>\n",
              "\n",
              "<style>\n",
              "  .colab-df-quickchart {\n",
              "      --bg-color: #E8F0FE;\n",
              "      --fill-color: #1967D2;\n",
              "      --hover-bg-color: #E2EBFA;\n",
              "      --hover-fill-color: #174EA6;\n",
              "      --disabled-fill-color: #AAA;\n",
              "      --disabled-bg-color: #DDD;\n",
              "  }\n",
              "\n",
              "  [theme=dark] .colab-df-quickchart {\n",
              "      --bg-color: #3B4455;\n",
              "      --fill-color: #D2E3FC;\n",
              "      --hover-bg-color: #434B5C;\n",
              "      --hover-fill-color: #FFFFFF;\n",
              "      --disabled-bg-color: #3B4455;\n",
              "      --disabled-fill-color: #666;\n",
              "  }\n",
              "\n",
              "  .colab-df-quickchart {\n",
              "    background-color: var(--bg-color);\n",
              "    border: none;\n",
              "    border-radius: 50%;\n",
              "    cursor: pointer;\n",
              "    display: none;\n",
              "    fill: var(--fill-color);\n",
              "    height: 32px;\n",
              "    padding: 0;\n",
              "    width: 32px;\n",
              "  }\n",
              "\n",
              "  .colab-df-quickchart:hover {\n",
              "    background-color: var(--hover-bg-color);\n",
              "    box-shadow: 0 1px 2px rgba(60, 64, 67, 0.3), 0 1px 3px 1px rgba(60, 64, 67, 0.15);\n",
              "    fill: var(--button-hover-fill-color);\n",
              "  }\n",
              "\n",
              "  .colab-df-quickchart-complete:disabled,\n",
              "  .colab-df-quickchart-complete:disabled:hover {\n",
              "    background-color: var(--disabled-bg-color);\n",
              "    fill: var(--disabled-fill-color);\n",
              "    box-shadow: none;\n",
              "  }\n",
              "\n",
              "  .colab-df-spinner {\n",
              "    border: 2px solid var(--fill-color);\n",
              "    border-color: transparent;\n",
              "    border-bottom-color: var(--fill-color);\n",
              "    animation:\n",
              "      spin 1s steps(1) infinite;\n",
              "  }\n",
              "\n",
              "  @keyframes spin {\n",
              "    0% {\n",
              "      border-color: transparent;\n",
              "      border-bottom-color: var(--fill-color);\n",
              "      border-left-color: var(--fill-color);\n",
              "    }\n",
              "    20% {\n",
              "      border-color: transparent;\n",
              "      border-left-color: var(--fill-color);\n",
              "      border-top-color: var(--fill-color);\n",
              "    }\n",
              "    30% {\n",
              "      border-color: transparent;\n",
              "      border-left-color: var(--fill-color);\n",
              "      border-top-color: var(--fill-color);\n",
              "      border-right-color: var(--fill-color);\n",
              "    }\n",
              "    40% {\n",
              "      border-color: transparent;\n",
              "      border-right-color: var(--fill-color);\n",
              "      border-top-color: var(--fill-color);\n",
              "    }\n",
              "    60% {\n",
              "      border-color: transparent;\n",
              "      border-right-color: var(--fill-color);\n",
              "    }\n",
              "    80% {\n",
              "      border-color: transparent;\n",
              "      border-right-color: var(--fill-color);\n",
              "      border-bottom-color: var(--fill-color);\n",
              "    }\n",
              "    90% {\n",
              "      border-color: transparent;\n",
              "      border-bottom-color: var(--fill-color);\n",
              "    }\n",
              "  }\n",
              "</style>\n",
              "\n",
              "  <script>\n",
              "    async function quickchart(key) {\n",
              "      const quickchartButtonEl =\n",
              "        document.querySelector('#' + key + ' button');\n",
              "      quickchartButtonEl.disabled = true;  // To prevent multiple clicks.\n",
              "      quickchartButtonEl.classList.add('colab-df-spinner');\n",
              "      try {\n",
              "        const charts = await google.colab.kernel.invokeFunction(\n",
              "            'suggestCharts', [key], {});\n",
              "      } catch (error) {\n",
              "        console.error('Error during call to suggestCharts:', error);\n",
              "      }\n",
              "      quickchartButtonEl.classList.remove('colab-df-spinner');\n",
              "      quickchartButtonEl.classList.add('colab-df-quickchart-complete');\n",
              "    }\n",
              "    (() => {\n",
              "      let quickchartButtonEl =\n",
              "        document.querySelector('#df-f8c44281-fd60-4612-bdee-ba22a8d12eef button');\n",
              "      quickchartButtonEl.style.display =\n",
              "        google.colab.kernel.accessAllowed ? 'block' : 'none';\n",
              "    })();\n",
              "  </script>\n",
              "</div>\n",
              "    </div>\n",
              "  </div>\n"
            ],
            "application/vnd.google.colaboratory.intrinsic+json": {
              "type": "dataframe",
              "variable_name": "filtered_data",
              "summary": "{\n  \"name\": \"filtered_data\",\n  \"rows\": 51942,\n  \"fields\": [\n    {\n      \"column\": \"author\",\n      \"properties\": {\n        \"dtype\": \"category\",\n        \"num_unique_values\": 12878,\n        \"samples\": [\n          \"u/jmf301\",\n          \"u/Some_Ad_1274\",\n          \"u/First-Lawfulness\"\n        ],\n        \"semantic_type\": \"\",\n        \"description\": \"\"\n      }\n    },\n    {\n      \"column\": \"title\",\n      \"properties\": {\n        \"dtype\": \"string\",\n        \"num_unique_values\": 46480,\n        \"samples\": [\n          \"Math Pass/Fail\",\n          \"Are honors math classes typically at night?\",\n          \"Parking for CA\"\n        ],\n        \"semantic_type\": \"\",\n        \"description\": \"\"\n      }\n    },\n    {\n      \"column\": \"score\",\n      \"properties\": {\n        \"dtype\": \"number\",\n        \"std\": 48,\n        \"min\": 0,\n        \"max\": 1113,\n        \"num_unique_values\": 500,\n        \"samples\": [\n          153,\n          620,\n          200\n        ],\n        \"semantic_type\": \"\",\n        \"description\": \"\"\n      }\n    },\n    {\n      \"column\": \"created\",\n      \"properties\": {\n        \"dtype\": \"date\",\n        \"min\": \"2021-01-01 00:24:00\",\n        \"max\": \"2022-12-31 18:50:00\",\n        \"num_unique_values\": 49830,\n        \"samples\": [\n          \"2022-01-06 18:55:00\",\n          \"2021-04-13 12:04:00\",\n          \"2021-08-17 21:30:00\"\n        ],\n        \"semantic_type\": \"\",\n        \"description\": \"\"\n      }\n    },\n    {\n      \"column\": \"link\",\n      \"properties\": {\n        \"dtype\": \"string\",\n        \"num_unique_values\": 51942,\n        \"samples\": [\n          \"https://www.reddit.com/r/rutgers/comments/ni9bhh/does_verve_really_charging_for_a_reletting_fee/\",\n          \"https://www.reddit.com/r/rutgers/comments/pl22ic/has_anyone_else_been_feeling_under_the_weather/\",\n          \"https://www.reddit.com/r/rutgers/comments/kuns1e/aerial_footage_of_camden_county_boathouse_on/\"\n        ],\n        \"semantic_type\": \"\",\n        \"description\": \"\"\n      }\n    },\n    {\n      \"column\": \"text\",\n      \"properties\": {\n        \"dtype\": \"string\",\n        \"num_unique_values\": 28902,\n        \"samples\": [\n          \"It says Staff for all of them. Are the TAs for every section the same? what makes them different if there is one?\",\n          \"anybody have advice or experience from transferring out of rutgers to another school preferably in the cs field. i just wanna know how it worked out and examples of schools that people have gotten into.\",\n          \"Is there a group me for this class? If so, could you post the link, much appreciated\"\n        ],\n        \"semantic_type\": \"\",\n        \"description\": \"\"\n      }\n    },\n    {\n      \"column\": \"url\",\n      \"properties\": {\n        \"dtype\": \"string\",\n        \"num_unique_values\": 49767,\n        \"samples\": [\n          \"https://www.reddit.com/r/UPenn/comments/txwxny/magic_gardens_buyer_for_over_retail/\",\n          \"https://www.reddit.com/r/rutgers/comments/ugbn44/urgent_i_am_not_sure_whether_i_should_to_enroll/\",\n          \"https://www.reddit.com/r/rutgers/comments/siqsge/help_with_bus/\"\n        ],\n        \"semantic_type\": \"\",\n        \"description\": \"\"\n      }\n    },\n    {\n      \"column\": \"subreddit\",\n      \"properties\": {\n        \"dtype\": \"category\",\n        \"num_unique_values\": 2,\n        \"samples\": [\n          \"UPenn\",\n          \"Rutgers\"\n        ],\n        \"semantic_type\": \"\",\n        \"description\": \"\"\n      }\n    }\n  ]\n}"
            }
          },
          "metadata": {},
          "execution_count": 7
        }
      ],
      "source": [
        "filtered_data"
      ]
    },
    {
      "cell_type": "code",
      "execution_count": null,
      "metadata": {
        "id": "EKeFh4issYvy",
        "colab": {
          "base_uri": "https://localhost:8080/"
        },
        "outputId": "dc8f4600-f3e6-4a0b-bb0e-d56e6d747dc5"
      },
      "outputs": [
        {
          "output_type": "stream",
          "name": "stderr",
          "text": [
            "[nltk_data] Downloading package stopwords to /root/nltk_data...\n",
            "[nltk_data]   Unzipping corpora/stopwords.zip.\n",
            "[nltk_data] Downloading package wordnet to /root/nltk_data...\n",
            "[nltk_data] Downloading package punkt to /root/nltk_data...\n",
            "[nltk_data]   Unzipping tokenizers/punkt.zip.\n",
            "<ipython-input-8-153e176c1b04>:36: SettingWithCopyWarning: \n",
            "A value is trying to be set on a copy of a slice from a DataFrame.\n",
            "Try using .loc[row_indexer,col_indexer] = value instead\n",
            "\n",
            "See the caveats in the documentation: https://pandas.pydata.org/pandas-docs/stable/user_guide/indexing.html#returning-a-view-versus-a-copy\n",
            "  filtered_data['cleaned_title'] = filtered_data['title'].apply(clean_text)\n"
          ]
        },
        {
          "output_type": "stream",
          "name": "stdout",
          "text": [
            "Data after cleaning and processing:                author                                              title  \\\n",
            "88212     u/[deleted]                               Some of you liberals   \n",
            "88213  u/Ozymandias--  Rutgers officially announces plans to re-open ...   \n",
            "88214     u/[deleted]                  what should i do in terms of P/NC   \n",
            "88215    u/kingcam321                               Syllabus for Orgo 2?   \n",
            "88216     u/[deleted]  Is Jimenez going to post the results to the Fi...   \n",
            "\n",
            "       score             created  \\\n",
            "88212      0 2021-01-01 05:40:00   \n",
            "88213    357 2021-01-01 06:48:00   \n",
            "88214      6 2021-01-01 09:41:00   \n",
            "88215      7 2021-01-01 11:09:00   \n",
            "88216      4 2021-01-01 11:10:00   \n",
            "\n",
            "                                                    link  \\\n",
            "88212  https://www.reddit.com/r/rutgers/comments/ko9a...   \n",
            "88213  https://www.reddit.com/r/rutgers/comments/koa2...   \n",
            "88214  https://www.reddit.com/r/rutgers/comments/koca...   \n",
            "88215  https://www.reddit.com/r/rutgers/comments/kodp...   \n",
            "88216  https://www.reddit.com/r/rutgers/comments/kodq...   \n",
            "\n",
            "                                                    text  \\\n",
            "88212                                          [removed]   \n",
            "88213                                                NaN   \n",
            "88214                                          [deleted]   \n",
            "88215  Does anyone have the syllabus for orgo 2? I di...   \n",
            "88216                                          [deleted]   \n",
            "\n",
            "                                                     url subreddit  \\\n",
            "88212  https://www.reddit.com/r/rutgers/comments/ko9a...   Rutgers   \n",
            "88213  https://newbrunswicktoday.com/2020/12/31/rutge...   Rutgers   \n",
            "88214  https://www.reddit.com/r/rutgers/comments/koca...   Rutgers   \n",
            "88215  https://www.reddit.com/r/rutgers/comments/kodp...   Rutgers   \n",
            "88216  https://www.reddit.com/r/rutgers/comments/kodq...   Rutgers   \n",
            "\n",
            "                                           cleaned_title  \\\n",
            "88212                               Some of you liberals   \n",
            "88213  Rutgers officially announces plans to reopen a...   \n",
            "88214                     what should do in terms of PNC   \n",
            "88215                                  Syllabus for Orgo   \n",
            "88216  Is Jimenez going to post the results to the Fi...   \n",
            "\n",
            "                                         processed_title  \n",
            "88212                                            liberal  \n",
            "88213  Rutgers officially announces plan reopen campu...  \n",
            "88214                                           term PNC  \n",
            "88215                                      Syllabus Orgo  \n",
            "88216               Jimenez going post result Final Exam  \n"
          ]
        },
        {
          "output_type": "stream",
          "name": "stderr",
          "text": [
            "<ipython-input-8-153e176c1b04>:37: SettingWithCopyWarning: \n",
            "A value is trying to be set on a copy of a slice from a DataFrame.\n",
            "Try using .loc[row_indexer,col_indexer] = value instead\n",
            "\n",
            "See the caveats in the documentation: https://pandas.pydata.org/pandas-docs/stable/user_guide/indexing.html#returning-a-view-versus-a-copy\n",
            "  filtered_data['processed_title'] = filtered_data['cleaned_title'].apply(process_text)\n"
          ]
        }
      ],
      "source": [
        "import pandas as pd\n",
        "import re\n",
        "import string\n",
        "import emoji\n",
        "import nltk\n",
        "\n",
        "# Ensure necessary NLTK resources are available\n",
        "nltk.download('stopwords')\n",
        "nltk.download('wordnet')\n",
        "nltk.download('punkt')\n",
        "\n",
        "# Data Cleaning and Preprocessing\n",
        "def clean_text(text):\n",
        "    text = emoji.replace_emoji(text, replace='')\n",
        "    text = re.sub(r'https?://\\S+|www\\.\\S+', '', text)\n",
        "    text = re.sub(r'[\\t\\n\\r]+', ' ', text)\n",
        "    text = text.translate(str.maketrans('', '', string.punctuation))\n",
        "    text = re.sub(r'\\w*\\d\\w*', '', text)\n",
        "    text = re.sub(r'\\s+[a-zA-Z]\\s+', ' ', text)\n",
        "    text = text.strip()\n",
        "    # Filter out any strings that have become empty after cleaning\n",
        "    return text if text else None\n",
        "\n",
        "def process_text(text):\n",
        "    if text is None:  # If text is None, skip processing\n",
        "        return None\n",
        "    stopwords = set(nltk.corpus.stopwords.words(\"english\")) - set([\"not\"])\n",
        "    lemmatizer = nltk.stem.WordNetLemmatizer()\n",
        "    tokens = nltk.word_tokenize(text)\n",
        "    processed_text = [lemmatizer.lemmatize(word) for word in tokens if word.lower() not in stopwords]\n",
        "    # Create a combined string and filter out any that would be empty\n",
        "    processed = \" \".join(processed_text)\n",
        "    return processed if processed else None\n",
        "\n",
        "# Apply cleaning and processing to the dataset\n",
        "filtered_data['cleaned_title'] = filtered_data['title'].apply(clean_text)\n",
        "filtered_data['processed_title'] = filtered_data['cleaned_title'].apply(process_text)\n",
        "\n",
        "# Drop any rows where 'processed_title' is None\n",
        "filtered_data = filtered_data.dropna(subset=['processed_title'])\n",
        "\n",
        "print(\"Data after cleaning and processing:\", filtered_data.head())"
      ]
    },
    {
      "cell_type": "code",
      "execution_count": null,
      "metadata": {
        "id": "3Yy0DI-zv81I"
      },
      "outputs": [],
      "source": [
        "filtered_data = filtered_data[filtered_data['processed_title'] != 'deleted user']\n",
        "filtered_data = filtered_data[filtered_data['processed_title'].str.strip() != '']"
      ]
    },
    {
      "cell_type": "code",
      "execution_count": null,
      "metadata": {
        "id": "Yl8TkX1Qv3qK",
        "colab": {
          "base_uri": "https://localhost:8080/",
          "height": 424
        },
        "outputId": "430e9766-0c29-4ea1-9eda-247bf62dde20"
      },
      "outputs": [
        {
          "output_type": "execute_result",
          "data": {
            "text/plain": [
              "       subreddit                                    processed_title\n",
              "88212    Rutgers                                            liberal\n",
              "88213    Rutgers  Rutgers officially announces plan reopen campu...\n",
              "88214    Rutgers                                           term PNC\n",
              "88215    Rutgers                                      Syllabus Orgo\n",
              "88216    Rutgers               Jimenez going post result Final Exam\n",
              "...          ...                                                ...\n",
              "151909     UPenn                                 SUPPLEMENTAL ESSAY\n",
              "151910     UPenn                                            ISP BFS\n",
              "151911     UPenn                                 schedule much work\n",
              "151912     UPenn                     anyone know topic covered STAT\n",
              "151913     UPenn              Anyone use university HSA health plan\n",
              "\n",
              "[48528 rows x 2 columns]"
            ],
            "text/html": [
              "\n",
              "  <div id=\"df-126dd5f8-c966-49a8-b6ca-6478d47683f3\" class=\"colab-df-container\">\n",
              "    <div>\n",
              "<style scoped>\n",
              "    .dataframe tbody tr th:only-of-type {\n",
              "        vertical-align: middle;\n",
              "    }\n",
              "\n",
              "    .dataframe tbody tr th {\n",
              "        vertical-align: top;\n",
              "    }\n",
              "\n",
              "    .dataframe thead th {\n",
              "        text-align: right;\n",
              "    }\n",
              "</style>\n",
              "<table border=\"1\" class=\"dataframe\">\n",
              "  <thead>\n",
              "    <tr style=\"text-align: right;\">\n",
              "      <th></th>\n",
              "      <th>subreddit</th>\n",
              "      <th>processed_title</th>\n",
              "    </tr>\n",
              "  </thead>\n",
              "  <tbody>\n",
              "    <tr>\n",
              "      <th>88212</th>\n",
              "      <td>Rutgers</td>\n",
              "      <td>liberal</td>\n",
              "    </tr>\n",
              "    <tr>\n",
              "      <th>88213</th>\n",
              "      <td>Rutgers</td>\n",
              "      <td>Rutgers officially announces plan reopen campu...</td>\n",
              "    </tr>\n",
              "    <tr>\n",
              "      <th>88214</th>\n",
              "      <td>Rutgers</td>\n",
              "      <td>term PNC</td>\n",
              "    </tr>\n",
              "    <tr>\n",
              "      <th>88215</th>\n",
              "      <td>Rutgers</td>\n",
              "      <td>Syllabus Orgo</td>\n",
              "    </tr>\n",
              "    <tr>\n",
              "      <th>88216</th>\n",
              "      <td>Rutgers</td>\n",
              "      <td>Jimenez going post result Final Exam</td>\n",
              "    </tr>\n",
              "    <tr>\n",
              "      <th>...</th>\n",
              "      <td>...</td>\n",
              "      <td>...</td>\n",
              "    </tr>\n",
              "    <tr>\n",
              "      <th>151909</th>\n",
              "      <td>UPenn</td>\n",
              "      <td>SUPPLEMENTAL ESSAY</td>\n",
              "    </tr>\n",
              "    <tr>\n",
              "      <th>151910</th>\n",
              "      <td>UPenn</td>\n",
              "      <td>ISP BFS</td>\n",
              "    </tr>\n",
              "    <tr>\n",
              "      <th>151911</th>\n",
              "      <td>UPenn</td>\n",
              "      <td>schedule much work</td>\n",
              "    </tr>\n",
              "    <tr>\n",
              "      <th>151912</th>\n",
              "      <td>UPenn</td>\n",
              "      <td>anyone know topic covered STAT</td>\n",
              "    </tr>\n",
              "    <tr>\n",
              "      <th>151913</th>\n",
              "      <td>UPenn</td>\n",
              "      <td>Anyone use university HSA health plan</td>\n",
              "    </tr>\n",
              "  </tbody>\n",
              "</table>\n",
              "<p>48528 rows × 2 columns</p>\n",
              "</div>\n",
              "    <div class=\"colab-df-buttons\">\n",
              "\n",
              "  <div class=\"colab-df-container\">\n",
              "    <button class=\"colab-df-convert\" onclick=\"convertToInteractive('df-126dd5f8-c966-49a8-b6ca-6478d47683f3')\"\n",
              "            title=\"Convert this dataframe to an interactive table.\"\n",
              "            style=\"display:none;\">\n",
              "\n",
              "  <svg xmlns=\"http://www.w3.org/2000/svg\" height=\"24px\" viewBox=\"0 -960 960 960\">\n",
              "    <path d=\"M120-120v-720h720v720H120Zm60-500h600v-160H180v160Zm220 220h160v-160H400v160Zm0 220h160v-160H400v160ZM180-400h160v-160H180v160Zm440 0h160v-160H620v160ZM180-180h160v-160H180v160Zm440 0h160v-160H620v160Z\"/>\n",
              "  </svg>\n",
              "    </button>\n",
              "\n",
              "  <style>\n",
              "    .colab-df-container {\n",
              "      display:flex;\n",
              "      gap: 12px;\n",
              "    }\n",
              "\n",
              "    .colab-df-convert {\n",
              "      background-color: #E8F0FE;\n",
              "      border: none;\n",
              "      border-radius: 50%;\n",
              "      cursor: pointer;\n",
              "      display: none;\n",
              "      fill: #1967D2;\n",
              "      height: 32px;\n",
              "      padding: 0 0 0 0;\n",
              "      width: 32px;\n",
              "    }\n",
              "\n",
              "    .colab-df-convert:hover {\n",
              "      background-color: #E2EBFA;\n",
              "      box-shadow: 0px 1px 2px rgba(60, 64, 67, 0.3), 0px 1px 3px 1px rgba(60, 64, 67, 0.15);\n",
              "      fill: #174EA6;\n",
              "    }\n",
              "\n",
              "    .colab-df-buttons div {\n",
              "      margin-bottom: 4px;\n",
              "    }\n",
              "\n",
              "    [theme=dark] .colab-df-convert {\n",
              "      background-color: #3B4455;\n",
              "      fill: #D2E3FC;\n",
              "    }\n",
              "\n",
              "    [theme=dark] .colab-df-convert:hover {\n",
              "      background-color: #434B5C;\n",
              "      box-shadow: 0px 1px 3px 1px rgba(0, 0, 0, 0.15);\n",
              "      filter: drop-shadow(0px 1px 2px rgba(0, 0, 0, 0.3));\n",
              "      fill: #FFFFFF;\n",
              "    }\n",
              "  </style>\n",
              "\n",
              "    <script>\n",
              "      const buttonEl =\n",
              "        document.querySelector('#df-126dd5f8-c966-49a8-b6ca-6478d47683f3 button.colab-df-convert');\n",
              "      buttonEl.style.display =\n",
              "        google.colab.kernel.accessAllowed ? 'block' : 'none';\n",
              "\n",
              "      async function convertToInteractive(key) {\n",
              "        const element = document.querySelector('#df-126dd5f8-c966-49a8-b6ca-6478d47683f3');\n",
              "        const dataTable =\n",
              "          await google.colab.kernel.invokeFunction('convertToInteractive',\n",
              "                                                    [key], {});\n",
              "        if (!dataTable) return;\n",
              "\n",
              "        const docLinkHtml = 'Like what you see? Visit the ' +\n",
              "          '<a target=\"_blank\" href=https://colab.research.google.com/notebooks/data_table.ipynb>data table notebook</a>'\n",
              "          + ' to learn more about interactive tables.';\n",
              "        element.innerHTML = '';\n",
              "        dataTable['output_type'] = 'display_data';\n",
              "        await google.colab.output.renderOutput(dataTable, element);\n",
              "        const docLink = document.createElement('div');\n",
              "        docLink.innerHTML = docLinkHtml;\n",
              "        element.appendChild(docLink);\n",
              "      }\n",
              "    </script>\n",
              "  </div>\n",
              "\n",
              "\n",
              "<div id=\"df-5e60a055-0dd4-4668-ad80-546cb45cb097\">\n",
              "  <button class=\"colab-df-quickchart\" onclick=\"quickchart('df-5e60a055-0dd4-4668-ad80-546cb45cb097')\"\n",
              "            title=\"Suggest charts\"\n",
              "            style=\"display:none;\">\n",
              "\n",
              "<svg xmlns=\"http://www.w3.org/2000/svg\" height=\"24px\"viewBox=\"0 0 24 24\"\n",
              "     width=\"24px\">\n",
              "    <g>\n",
              "        <path d=\"M19 3H5c-1.1 0-2 .9-2 2v14c0 1.1.9 2 2 2h14c1.1 0 2-.9 2-2V5c0-1.1-.9-2-2-2zM9 17H7v-7h2v7zm4 0h-2V7h2v10zm4 0h-2v-4h2v4z\"/>\n",
              "    </g>\n",
              "</svg>\n",
              "  </button>\n",
              "\n",
              "<style>\n",
              "  .colab-df-quickchart {\n",
              "      --bg-color: #E8F0FE;\n",
              "      --fill-color: #1967D2;\n",
              "      --hover-bg-color: #E2EBFA;\n",
              "      --hover-fill-color: #174EA6;\n",
              "      --disabled-fill-color: #AAA;\n",
              "      --disabled-bg-color: #DDD;\n",
              "  }\n",
              "\n",
              "  [theme=dark] .colab-df-quickchart {\n",
              "      --bg-color: #3B4455;\n",
              "      --fill-color: #D2E3FC;\n",
              "      --hover-bg-color: #434B5C;\n",
              "      --hover-fill-color: #FFFFFF;\n",
              "      --disabled-bg-color: #3B4455;\n",
              "      --disabled-fill-color: #666;\n",
              "  }\n",
              "\n",
              "  .colab-df-quickchart {\n",
              "    background-color: var(--bg-color);\n",
              "    border: none;\n",
              "    border-radius: 50%;\n",
              "    cursor: pointer;\n",
              "    display: none;\n",
              "    fill: var(--fill-color);\n",
              "    height: 32px;\n",
              "    padding: 0;\n",
              "    width: 32px;\n",
              "  }\n",
              "\n",
              "  .colab-df-quickchart:hover {\n",
              "    background-color: var(--hover-bg-color);\n",
              "    box-shadow: 0 1px 2px rgba(60, 64, 67, 0.3), 0 1px 3px 1px rgba(60, 64, 67, 0.15);\n",
              "    fill: var(--button-hover-fill-color);\n",
              "  }\n",
              "\n",
              "  .colab-df-quickchart-complete:disabled,\n",
              "  .colab-df-quickchart-complete:disabled:hover {\n",
              "    background-color: var(--disabled-bg-color);\n",
              "    fill: var(--disabled-fill-color);\n",
              "    box-shadow: none;\n",
              "  }\n",
              "\n",
              "  .colab-df-spinner {\n",
              "    border: 2px solid var(--fill-color);\n",
              "    border-color: transparent;\n",
              "    border-bottom-color: var(--fill-color);\n",
              "    animation:\n",
              "      spin 1s steps(1) infinite;\n",
              "  }\n",
              "\n",
              "  @keyframes spin {\n",
              "    0% {\n",
              "      border-color: transparent;\n",
              "      border-bottom-color: var(--fill-color);\n",
              "      border-left-color: var(--fill-color);\n",
              "    }\n",
              "    20% {\n",
              "      border-color: transparent;\n",
              "      border-left-color: var(--fill-color);\n",
              "      border-top-color: var(--fill-color);\n",
              "    }\n",
              "    30% {\n",
              "      border-color: transparent;\n",
              "      border-left-color: var(--fill-color);\n",
              "      border-top-color: var(--fill-color);\n",
              "      border-right-color: var(--fill-color);\n",
              "    }\n",
              "    40% {\n",
              "      border-color: transparent;\n",
              "      border-right-color: var(--fill-color);\n",
              "      border-top-color: var(--fill-color);\n",
              "    }\n",
              "    60% {\n",
              "      border-color: transparent;\n",
              "      border-right-color: var(--fill-color);\n",
              "    }\n",
              "    80% {\n",
              "      border-color: transparent;\n",
              "      border-right-color: var(--fill-color);\n",
              "      border-bottom-color: var(--fill-color);\n",
              "    }\n",
              "    90% {\n",
              "      border-color: transparent;\n",
              "      border-bottom-color: var(--fill-color);\n",
              "    }\n",
              "  }\n",
              "</style>\n",
              "\n",
              "  <script>\n",
              "    async function quickchart(key) {\n",
              "      const quickchartButtonEl =\n",
              "        document.querySelector('#' + key + ' button');\n",
              "      quickchartButtonEl.disabled = true;  // To prevent multiple clicks.\n",
              "      quickchartButtonEl.classList.add('colab-df-spinner');\n",
              "      try {\n",
              "        const charts = await google.colab.kernel.invokeFunction(\n",
              "            'suggestCharts', [key], {});\n",
              "      } catch (error) {\n",
              "        console.error('Error during call to suggestCharts:', error);\n",
              "      }\n",
              "      quickchartButtonEl.classList.remove('colab-df-spinner');\n",
              "      quickchartButtonEl.classList.add('colab-df-quickchart-complete');\n",
              "    }\n",
              "    (() => {\n",
              "      let quickchartButtonEl =\n",
              "        document.querySelector('#df-5e60a055-0dd4-4668-ad80-546cb45cb097 button');\n",
              "      quickchartButtonEl.style.display =\n",
              "        google.colab.kernel.accessAllowed ? 'block' : 'none';\n",
              "    })();\n",
              "  </script>\n",
              "</div>\n",
              "    </div>\n",
              "  </div>\n"
            ],
            "application/vnd.google.colaboratory.intrinsic+json": {
              "type": "dataframe",
              "variable_name": "df",
              "summary": "{\n  \"name\": \"df\",\n  \"rows\": 48528,\n  \"fields\": [\n    {\n      \"column\": \"subreddit\",\n      \"properties\": {\n        \"dtype\": \"category\",\n        \"num_unique_values\": 2,\n        \"samples\": [\n          \"UPenn\",\n          \"Rutgers\"\n        ],\n        \"semantic_type\": \"\",\n        \"description\": \"\"\n      }\n    },\n    {\n      \"column\": \"processed_title\",\n      \"properties\": {\n        \"dtype\": \"string\",\n        \"num_unique_values\": 44999,\n        \"samples\": [\n          \"Boxing Gym\",\n          \"Livingston Parking\"\n        ],\n        \"semantic_type\": \"\",\n        \"description\": \"\"\n      }\n    }\n  ]\n}"
            }
          },
          "metadata": {},
          "execution_count": 10
        }
      ],
      "source": [
        "df = filtered_data[['subreddit','processed_title']]\n",
        "df"
      ]
    },
    {
      "cell_type": "code",
      "execution_count": null,
      "metadata": {
        "id": "j1V7mn-DvcQP"
      },
      "outputs": [],
      "source": [
        "# Random sampling\n",
        "sampled_data = df.groupby('subreddit').sample(n=2000, random_state=1)"
      ]
    },
    {
      "cell_type": "code",
      "execution_count": null,
      "metadata": {
        "id": "kItwrqwCs6_1",
        "colab": {
          "base_uri": "https://localhost:8080/"
        },
        "outputId": "e83c5e31-e687-4b68-a65f-28346f2105f1"
      },
      "outputs": [
        {
          "output_type": "execute_result",
          "data": {
            "text/plain": [
              "processed_title\n",
              "CIS                        7\n",
              "Housing                    4\n",
              "summer                     3\n",
              "Friends                    3\n",
              "v                          3\n",
              "                          ..\n",
              "MAE Technical Electives    1\n",
              "MATH Help                  1\n",
              "MATH Ideas Mathematics     1\n",
              "MATH MATH                  1\n",
              "…                          1\n",
              "Name: count, Length: 3943, dtype: int64"
            ]
          },
          "metadata": {},
          "execution_count": 12
        }
      ],
      "source": [
        "sampled_data.value_counts(\"processed_title\")"
      ]
    },
    {
      "cell_type": "markdown",
      "metadata": {
        "id": "cOTa7JrnxaSh"
      },
      "source": [
        "Now that the df is ready lets work on it"
      ]
    },
    {
      "cell_type": "code",
      "execution_count": null,
      "metadata": {
        "id": "Qwtc8iJhbB_W",
        "colab": {
          "base_uri": "https://localhost:8080/"
        },
        "outputId": "cc09aeb9-ccd0-401b-94af-d93249eb0dec"
      },
      "outputs": [
        {
          "output_type": "stream",
          "name": "stdout",
          "text": [
            "subreddit\n",
            "Rutgers    1000\n",
            "UPenn      1000\n",
            "Name: count, dtype: int64\n",
            "subreddit\n",
            "Rutgers    10951\n",
            "UPenn       3608\n",
            "Name: count, dtype: int64\n",
            "  subreddit                                    processed_title  Encoded Label\n",
            "0   Rutgers  girl currently not oncampus housing would like...              0\n",
            "1   Rutgers                 Livingston Dining Hall Guest Swipe              0\n",
            "2   Rutgers                                          bus route              0\n",
            "3   Rutgers  Hypothetical question allowed store gallon liq...              0\n",
            "4   Rutgers               get another covid relief fund spring              0\n",
            "       subreddit                                    processed_title  \\\n",
            "142320     UPenn                freshman take course first semester   \n",
            "145166     UPenn       UPenn Masters Biotechnology v Bioengineering   \n",
            "106086   Rutgers                                          Fun class   \n",
            "108742   Rutgers  ’ Social Media amp Work KerrMccurry credit cou...   \n",
            "95253    Rutgers                               ticket football game   \n",
            "\n",
            "        Encoded Label  \n",
            "142320              1  \n",
            "145166              1  \n",
            "106086              0  \n",
            "108742              0  \n",
            "95253               0  \n"
          ]
        }
      ],
      "source": [
        "import pandas as pd\n",
        "from sklearn.model_selection import train_test_split\n",
        "\n",
        "def sample_and_encode_data(df, num_samples=None):\n",
        "    # Sample data if num_samples is specified\n",
        "    if num_samples:\n",
        "        df = df.groupby('subreddit', as_index=False).apply(lambda x: x.sample(num_samples, replace=True, random_state=42)).reset_index(drop=True)\n",
        "\n",
        "    # Encode the 'color' column as categorical codes\n",
        "    df['subreddit'] = df['subreddit'].astype('category')\n",
        "    df['Encoded Label'] = df['subreddit'].cat.codes\n",
        "\n",
        "    return df\n",
        "\n",
        "# Assuming 'df' is your full DataFrame\n",
        "# Splitting the data into train and test sets\n",
        "train_size = 0.70\n",
        "df_train, df_test = train_test_split(df, stratify=df['subreddit'], train_size=train_size, test_size=0.30, random_state=42)\n",
        "\n",
        "# Optionally balance classes in training data\n",
        "BALANCE_SAMPLES = 1000  # We will be downsampeling our dataset\n",
        "df_train = sample_and_encode_data(df_train, BALANCE_SAMPLES)\n",
        "df_test = sample_and_encode_data(df_test)  # No balancing for test data, just encoding\n",
        "\n",
        "# Check the distribution of classes and the head of the datasets to confirm setup\n",
        "print(df_train.value_counts('subreddit'))\n",
        "print(df_test.value_counts('subreddit'))\n",
        "print(df_train.head())\n",
        "print(df_test.head())"
      ]
    },
    {
      "cell_type": "markdown",
      "metadata": {
        "id": "R5mwKYccxtYF"
      },
      "source": [
        "#Generating Embeddings"
      ]
    },
    {
      "cell_type": "code",
      "execution_count": null,
      "metadata": {
        "id": "IKXtxWUVXSjQ"
      },
      "outputs": [],
      "source": [
        "from tqdm.auto import tqdm\n",
        "tqdm.pandas()\n",
        "\n",
        "from google.api_core import retry\n",
        "\n",
        "def make_embed_text_fn(model):\n",
        "\n",
        "  @retry.Retry(timeout=300.0)\n",
        "  def embed_fn(text: str) -> list[float]:\n",
        "    # Set the task_type to CLASSIFICATION.\n",
        "    embedding = genai.embed_content(model=model,\n",
        "                                    content=text,\n",
        "                                    task_type=\"classification\")\n",
        "    return embedding['embedding']\n",
        "\n",
        "  return embed_fn\n",
        "\n",
        "def create_embeddings(model, df):\n",
        "  df['Embeddings'] = df['processed_title'].progress_apply(make_embed_text_fn(model))\n",
        "  return df"
      ]
    },
    {
      "cell_type": "code",
      "execution_count": null,
      "metadata": {
        "id": "2NNN_LtHYXnZ"
      },
      "outputs": [],
      "source": [
        "# model = 'models/embedding-001'\n",
        "# df_train = create_embeddings(model, df_train)\n",
        "# df_test = create_embeddings(model, df_test)"
      ]
    },
    {
      "cell_type": "code",
      "execution_count": null,
      "metadata": {
        "id": "rgVS7JpfM3W5"
      },
      "outputs": [],
      "source": [
        "df_train=pd.read_csv('/content/drive/MyDrive/Projects /ML for DS/df_train.csv')\n",
        "df_test=pd.read_csv('/content/drive/MyDrive/Projects /ML for DS/df_test.csv')"
      ]
    },
    {
      "cell_type": "code",
      "execution_count": null,
      "metadata": {
        "id": "BRGwEMsox2KA",
        "colab": {
          "base_uri": "https://localhost:8080/",
          "height": 424
        },
        "outputId": "e1a15a01-76a0-42e9-a3a2-4c3d745c5bea"
      },
      "outputs": [
        {
          "output_type": "execute_result",
          "data": {
            "text/plain": [
              "      Unnamed: 0 subreddit                                    processed_title  \\\n",
              "0              0   Rutgers  girl currently not oncampus housing would like...   \n",
              "1              1   Rutgers                 Livingston Dining Hall Guest Swipe   \n",
              "2              2   Rutgers                                          bus route   \n",
              "3              3   Rutgers  Hypothetical question allowed store gallon liq...   \n",
              "4              4   Rutgers               get another covid relief fund spring   \n",
              "...          ...       ...                                                ...   \n",
              "1995        1995     UPenn                 schedule vaccine schedule one dose   \n",
              "1996        1996     UPenn  everyone get preorientation program acceptance...   \n",
              "1997        1997     UPenn                                        prof better   \n",
              "1998        1998     UPenn                         Penn building still closed   \n",
              "1999        1999     UPenn  Admitted master program bigger dream admit PhD...   \n",
              "\n",
              "      Encoded Label                                         Embeddings  \n",
              "0                 0  [0.017395863, -0.03309162, -0.026439212, -0.07...  \n",
              "1                 0  [0.04196943, -0.011381745, -0.057876058, -0.05...  \n",
              "2                 0  [0.016273398, -0.030588085, -0.05447116, -0.04...  \n",
              "3                 0  [-0.013889403, -0.06625572, -0.052370287, -0.0...  \n",
              "4                 0  [0.003015446, -0.0065499432, -0.0581211, -0.04...  \n",
              "...             ...                                                ...  \n",
              "1995              1  [0.004068121, -0.06631477, -0.033852454, -0.04...  \n",
              "1996              1  [0.021544827, -0.039928205, -0.019442463, -0.0...  \n",
              "1997              1  [0.013047099, -0.016865127, 0.027865369, -0.02...  \n",
              "1998              1  [0.03347769, -0.01859094, -0.026078595, -0.057...  \n",
              "1999              1  [-0.018892385, -0.023043964, -0.056339025, -0....  \n",
              "\n",
              "[2000 rows x 5 columns]"
            ],
            "text/html": [
              "\n",
              "  <div id=\"df-25be4958-c929-452d-998e-2dfdb65b87f7\" class=\"colab-df-container\">\n",
              "    <div>\n",
              "<style scoped>\n",
              "    .dataframe tbody tr th:only-of-type {\n",
              "        vertical-align: middle;\n",
              "    }\n",
              "\n",
              "    .dataframe tbody tr th {\n",
              "        vertical-align: top;\n",
              "    }\n",
              "\n",
              "    .dataframe thead th {\n",
              "        text-align: right;\n",
              "    }\n",
              "</style>\n",
              "<table border=\"1\" class=\"dataframe\">\n",
              "  <thead>\n",
              "    <tr style=\"text-align: right;\">\n",
              "      <th></th>\n",
              "      <th>Unnamed: 0</th>\n",
              "      <th>subreddit</th>\n",
              "      <th>processed_title</th>\n",
              "      <th>Encoded Label</th>\n",
              "      <th>Embeddings</th>\n",
              "    </tr>\n",
              "  </thead>\n",
              "  <tbody>\n",
              "    <tr>\n",
              "      <th>0</th>\n",
              "      <td>0</td>\n",
              "      <td>Rutgers</td>\n",
              "      <td>girl currently not oncampus housing would like...</td>\n",
              "      <td>0</td>\n",
              "      <td>[0.017395863, -0.03309162, -0.026439212, -0.07...</td>\n",
              "    </tr>\n",
              "    <tr>\n",
              "      <th>1</th>\n",
              "      <td>1</td>\n",
              "      <td>Rutgers</td>\n",
              "      <td>Livingston Dining Hall Guest Swipe</td>\n",
              "      <td>0</td>\n",
              "      <td>[0.04196943, -0.011381745, -0.057876058, -0.05...</td>\n",
              "    </tr>\n",
              "    <tr>\n",
              "      <th>2</th>\n",
              "      <td>2</td>\n",
              "      <td>Rutgers</td>\n",
              "      <td>bus route</td>\n",
              "      <td>0</td>\n",
              "      <td>[0.016273398, -0.030588085, -0.05447116, -0.04...</td>\n",
              "    </tr>\n",
              "    <tr>\n",
              "      <th>3</th>\n",
              "      <td>3</td>\n",
              "      <td>Rutgers</td>\n",
              "      <td>Hypothetical question allowed store gallon liq...</td>\n",
              "      <td>0</td>\n",
              "      <td>[-0.013889403, -0.06625572, -0.052370287, -0.0...</td>\n",
              "    </tr>\n",
              "    <tr>\n",
              "      <th>4</th>\n",
              "      <td>4</td>\n",
              "      <td>Rutgers</td>\n",
              "      <td>get another covid relief fund spring</td>\n",
              "      <td>0</td>\n",
              "      <td>[0.003015446, -0.0065499432, -0.0581211, -0.04...</td>\n",
              "    </tr>\n",
              "    <tr>\n",
              "      <th>...</th>\n",
              "      <td>...</td>\n",
              "      <td>...</td>\n",
              "      <td>...</td>\n",
              "      <td>...</td>\n",
              "      <td>...</td>\n",
              "    </tr>\n",
              "    <tr>\n",
              "      <th>1995</th>\n",
              "      <td>1995</td>\n",
              "      <td>UPenn</td>\n",
              "      <td>schedule vaccine schedule one dose</td>\n",
              "      <td>1</td>\n",
              "      <td>[0.004068121, -0.06631477, -0.033852454, -0.04...</td>\n",
              "    </tr>\n",
              "    <tr>\n",
              "      <th>1996</th>\n",
              "      <td>1996</td>\n",
              "      <td>UPenn</td>\n",
              "      <td>everyone get preorientation program acceptance...</td>\n",
              "      <td>1</td>\n",
              "      <td>[0.021544827, -0.039928205, -0.019442463, -0.0...</td>\n",
              "    </tr>\n",
              "    <tr>\n",
              "      <th>1997</th>\n",
              "      <td>1997</td>\n",
              "      <td>UPenn</td>\n",
              "      <td>prof better</td>\n",
              "      <td>1</td>\n",
              "      <td>[0.013047099, -0.016865127, 0.027865369, -0.02...</td>\n",
              "    </tr>\n",
              "    <tr>\n",
              "      <th>1998</th>\n",
              "      <td>1998</td>\n",
              "      <td>UPenn</td>\n",
              "      <td>Penn building still closed</td>\n",
              "      <td>1</td>\n",
              "      <td>[0.03347769, -0.01859094, -0.026078595, -0.057...</td>\n",
              "    </tr>\n",
              "    <tr>\n",
              "      <th>1999</th>\n",
              "      <td>1999</td>\n",
              "      <td>UPenn</td>\n",
              "      <td>Admitted master program bigger dream admit PhD...</td>\n",
              "      <td>1</td>\n",
              "      <td>[-0.018892385, -0.023043964, -0.056339025, -0....</td>\n",
              "    </tr>\n",
              "  </tbody>\n",
              "</table>\n",
              "<p>2000 rows × 5 columns</p>\n",
              "</div>\n",
              "    <div class=\"colab-df-buttons\">\n",
              "\n",
              "  <div class=\"colab-df-container\">\n",
              "    <button class=\"colab-df-convert\" onclick=\"convertToInteractive('df-25be4958-c929-452d-998e-2dfdb65b87f7')\"\n",
              "            title=\"Convert this dataframe to an interactive table.\"\n",
              "            style=\"display:none;\">\n",
              "\n",
              "  <svg xmlns=\"http://www.w3.org/2000/svg\" height=\"24px\" viewBox=\"0 -960 960 960\">\n",
              "    <path d=\"M120-120v-720h720v720H120Zm60-500h600v-160H180v160Zm220 220h160v-160H400v160Zm0 220h160v-160H400v160ZM180-400h160v-160H180v160Zm440 0h160v-160H620v160ZM180-180h160v-160H180v160Zm440 0h160v-160H620v160Z\"/>\n",
              "  </svg>\n",
              "    </button>\n",
              "\n",
              "  <style>\n",
              "    .colab-df-container {\n",
              "      display:flex;\n",
              "      gap: 12px;\n",
              "    }\n",
              "\n",
              "    .colab-df-convert {\n",
              "      background-color: #E8F0FE;\n",
              "      border: none;\n",
              "      border-radius: 50%;\n",
              "      cursor: pointer;\n",
              "      display: none;\n",
              "      fill: #1967D2;\n",
              "      height: 32px;\n",
              "      padding: 0 0 0 0;\n",
              "      width: 32px;\n",
              "    }\n",
              "\n",
              "    .colab-df-convert:hover {\n",
              "      background-color: #E2EBFA;\n",
              "      box-shadow: 0px 1px 2px rgba(60, 64, 67, 0.3), 0px 1px 3px 1px rgba(60, 64, 67, 0.15);\n",
              "      fill: #174EA6;\n",
              "    }\n",
              "\n",
              "    .colab-df-buttons div {\n",
              "      margin-bottom: 4px;\n",
              "    }\n",
              "\n",
              "    [theme=dark] .colab-df-convert {\n",
              "      background-color: #3B4455;\n",
              "      fill: #D2E3FC;\n",
              "    }\n",
              "\n",
              "    [theme=dark] .colab-df-convert:hover {\n",
              "      background-color: #434B5C;\n",
              "      box-shadow: 0px 1px 3px 1px rgba(0, 0, 0, 0.15);\n",
              "      filter: drop-shadow(0px 1px 2px rgba(0, 0, 0, 0.3));\n",
              "      fill: #FFFFFF;\n",
              "    }\n",
              "  </style>\n",
              "\n",
              "    <script>\n",
              "      const buttonEl =\n",
              "        document.querySelector('#df-25be4958-c929-452d-998e-2dfdb65b87f7 button.colab-df-convert');\n",
              "      buttonEl.style.display =\n",
              "        google.colab.kernel.accessAllowed ? 'block' : 'none';\n",
              "\n",
              "      async function convertToInteractive(key) {\n",
              "        const element = document.querySelector('#df-25be4958-c929-452d-998e-2dfdb65b87f7');\n",
              "        const dataTable =\n",
              "          await google.colab.kernel.invokeFunction('convertToInteractive',\n",
              "                                                    [key], {});\n",
              "        if (!dataTable) return;\n",
              "\n",
              "        const docLinkHtml = 'Like what you see? Visit the ' +\n",
              "          '<a target=\"_blank\" href=https://colab.research.google.com/notebooks/data_table.ipynb>data table notebook</a>'\n",
              "          + ' to learn more about interactive tables.';\n",
              "        element.innerHTML = '';\n",
              "        dataTable['output_type'] = 'display_data';\n",
              "        await google.colab.output.renderOutput(dataTable, element);\n",
              "        const docLink = document.createElement('div');\n",
              "        docLink.innerHTML = docLinkHtml;\n",
              "        element.appendChild(docLink);\n",
              "      }\n",
              "    </script>\n",
              "  </div>\n",
              "\n",
              "\n",
              "<div id=\"df-fd7f4750-0d59-4d96-8a2f-6ff2038c39f2\">\n",
              "  <button class=\"colab-df-quickchart\" onclick=\"quickchart('df-fd7f4750-0d59-4d96-8a2f-6ff2038c39f2')\"\n",
              "            title=\"Suggest charts\"\n",
              "            style=\"display:none;\">\n",
              "\n",
              "<svg xmlns=\"http://www.w3.org/2000/svg\" height=\"24px\"viewBox=\"0 0 24 24\"\n",
              "     width=\"24px\">\n",
              "    <g>\n",
              "        <path d=\"M19 3H5c-1.1 0-2 .9-2 2v14c0 1.1.9 2 2 2h14c1.1 0 2-.9 2-2V5c0-1.1-.9-2-2-2zM9 17H7v-7h2v7zm4 0h-2V7h2v10zm4 0h-2v-4h2v4z\"/>\n",
              "    </g>\n",
              "</svg>\n",
              "  </button>\n",
              "\n",
              "<style>\n",
              "  .colab-df-quickchart {\n",
              "      --bg-color: #E8F0FE;\n",
              "      --fill-color: #1967D2;\n",
              "      --hover-bg-color: #E2EBFA;\n",
              "      --hover-fill-color: #174EA6;\n",
              "      --disabled-fill-color: #AAA;\n",
              "      --disabled-bg-color: #DDD;\n",
              "  }\n",
              "\n",
              "  [theme=dark] .colab-df-quickchart {\n",
              "      --bg-color: #3B4455;\n",
              "      --fill-color: #D2E3FC;\n",
              "      --hover-bg-color: #434B5C;\n",
              "      --hover-fill-color: #FFFFFF;\n",
              "      --disabled-bg-color: #3B4455;\n",
              "      --disabled-fill-color: #666;\n",
              "  }\n",
              "\n",
              "  .colab-df-quickchart {\n",
              "    background-color: var(--bg-color);\n",
              "    border: none;\n",
              "    border-radius: 50%;\n",
              "    cursor: pointer;\n",
              "    display: none;\n",
              "    fill: var(--fill-color);\n",
              "    height: 32px;\n",
              "    padding: 0;\n",
              "    width: 32px;\n",
              "  }\n",
              "\n",
              "  .colab-df-quickchart:hover {\n",
              "    background-color: var(--hover-bg-color);\n",
              "    box-shadow: 0 1px 2px rgba(60, 64, 67, 0.3), 0 1px 3px 1px rgba(60, 64, 67, 0.15);\n",
              "    fill: var(--button-hover-fill-color);\n",
              "  }\n",
              "\n",
              "  .colab-df-quickchart-complete:disabled,\n",
              "  .colab-df-quickchart-complete:disabled:hover {\n",
              "    background-color: var(--disabled-bg-color);\n",
              "    fill: var(--disabled-fill-color);\n",
              "    box-shadow: none;\n",
              "  }\n",
              "\n",
              "  .colab-df-spinner {\n",
              "    border: 2px solid var(--fill-color);\n",
              "    border-color: transparent;\n",
              "    border-bottom-color: var(--fill-color);\n",
              "    animation:\n",
              "      spin 1s steps(1) infinite;\n",
              "  }\n",
              "\n",
              "  @keyframes spin {\n",
              "    0% {\n",
              "      border-color: transparent;\n",
              "      border-bottom-color: var(--fill-color);\n",
              "      border-left-color: var(--fill-color);\n",
              "    }\n",
              "    20% {\n",
              "      border-color: transparent;\n",
              "      border-left-color: var(--fill-color);\n",
              "      border-top-color: var(--fill-color);\n",
              "    }\n",
              "    30% {\n",
              "      border-color: transparent;\n",
              "      border-left-color: var(--fill-color);\n",
              "      border-top-color: var(--fill-color);\n",
              "      border-right-color: var(--fill-color);\n",
              "    }\n",
              "    40% {\n",
              "      border-color: transparent;\n",
              "      border-right-color: var(--fill-color);\n",
              "      border-top-color: var(--fill-color);\n",
              "    }\n",
              "    60% {\n",
              "      border-color: transparent;\n",
              "      border-right-color: var(--fill-color);\n",
              "    }\n",
              "    80% {\n",
              "      border-color: transparent;\n",
              "      border-right-color: var(--fill-color);\n",
              "      border-bottom-color: var(--fill-color);\n",
              "    }\n",
              "    90% {\n",
              "      border-color: transparent;\n",
              "      border-bottom-color: var(--fill-color);\n",
              "    }\n",
              "  }\n",
              "</style>\n",
              "\n",
              "  <script>\n",
              "    async function quickchart(key) {\n",
              "      const quickchartButtonEl =\n",
              "        document.querySelector('#' + key + ' button');\n",
              "      quickchartButtonEl.disabled = true;  // To prevent multiple clicks.\n",
              "      quickchartButtonEl.classList.add('colab-df-spinner');\n",
              "      try {\n",
              "        const charts = await google.colab.kernel.invokeFunction(\n",
              "            'suggestCharts', [key], {});\n",
              "      } catch (error) {\n",
              "        console.error('Error during call to suggestCharts:', error);\n",
              "      }\n",
              "      quickchartButtonEl.classList.remove('colab-df-spinner');\n",
              "      quickchartButtonEl.classList.add('colab-df-quickchart-complete');\n",
              "    }\n",
              "    (() => {\n",
              "      let quickchartButtonEl =\n",
              "        document.querySelector('#df-fd7f4750-0d59-4d96-8a2f-6ff2038c39f2 button');\n",
              "      quickchartButtonEl.style.display =\n",
              "        google.colab.kernel.accessAllowed ? 'block' : 'none';\n",
              "    })();\n",
              "  </script>\n",
              "</div>\n",
              "    </div>\n",
              "  </div>\n"
            ],
            "application/vnd.google.colaboratory.intrinsic+json": {
              "type": "dataframe",
              "variable_name": "df_train",
              "summary": "{\n  \"name\": \"df_train\",\n  \"rows\": 2000,\n  \"fields\": [\n    {\n      \"column\": \"Unnamed: 0\",\n      \"properties\": {\n        \"dtype\": \"number\",\n        \"std\": 577,\n        \"min\": 0,\n        \"max\": 1999,\n        \"num_unique_values\": 2000,\n        \"samples\": [\n          1860,\n          353,\n          1333\n        ],\n        \"semantic_type\": \"\",\n        \"description\": \"\"\n      }\n    },\n    {\n      \"column\": \"subreddit\",\n      \"properties\": {\n        \"dtype\": \"category\",\n        \"num_unique_values\": 2,\n        \"samples\": [\n          \"UPenn\",\n          \"Rutgers\"\n        ],\n        \"semantic_type\": \"\",\n        \"description\": \"\"\n      }\n    },\n    {\n      \"column\": \"processed_title\",\n      \"properties\": {\n        \"dtype\": \"string\",\n        \"num_unique_values\": 1909,\n        \"samples\": [\n          \"Orgo II Exams\",\n          \"Rutgers RWJUH Internship March Madness Quarterfinal Brackets\"\n        ],\n        \"semantic_type\": \"\",\n        \"description\": \"\"\n      }\n    },\n    {\n      \"column\": \"Encoded Label\",\n      \"properties\": {\n        \"dtype\": \"number\",\n        \"std\": 0,\n        \"min\": 0,\n        \"max\": 1,\n        \"num_unique_values\": 2,\n        \"samples\": [\n          1,\n          0\n        ],\n        \"semantic_type\": \"\",\n        \"description\": \"\"\n      }\n    },\n    {\n      \"column\": \"Embeddings\",\n      \"properties\": {\n        \"dtype\": \"string\",\n        \"num_unique_values\": 1909,\n        \"samples\": [\n          \"[-0.006675279, -0.0119998595, -0.005618705, -0.042995673, 0.029477019, 0.025270646, -0.020579863, 0.01034359, -0.027709223, 0.024078377, -0.024218604, 0.014931611, -0.018777853, 0.022751572, 0.02572277, -0.02677971, 0.04222716, -0.026930697, -0.016583972, -0.060482137, -0.018864864, 0.0162377, 0.02237544, 0.010226869, -0.0061522564, 0.02173441, 0.030829156, -0.025771864, -0.037352853, 0.05140807, -0.0685716, -0.034777522, -0.112485625, -0.019516049, -0.0390015, -0.038197655, 0.010299905, -0.02110441, -0.013751554, 0.027341088, 0.030013159, -0.035874054, -0.024313865, -0.026536463, 0.0018936278, -0.03858049, 0.029525064, 0.022335654, -0.041624613, -0.06405009, -0.004485641, -0.017695997, 0.013529699, -0.05786472, -0.0429436, -0.0013416898, 0.06194239, -0.04175722, 0.0012594269, -0.020943813, -0.019557022, 0.0063317325, -0.020412153, 0.057674523, -0.012586934, -0.033094343, -0.012685074, 0.022270363, 0.00540111, 0.021888485, -0.028978597, -0.0020275845, 0.023437817, -0.051549878, -0.034149382, -0.10333789, -0.06587076, 0.008088619, 0.015212022, 0.054734793, 0.012417195, -0.03730488, -0.05845329, -0.03736148, -0.06996781, -0.013594886, 0.0091694165, 0.036729086, 0.019577017, 0.071685016, -0.0018605093, -0.04757241, 0.04167596, -0.04757821, -0.0035002702, 0.037450917, -0.044967636, -0.0032329115, 0.0017632917, -0.04091777, 0.008222475, -0.052738406, -0.027290512, -0.021203086, 0.02720006, -0.00668622, -0.04926424, 0.01074104, -0.01811553, 0.057116278, -0.018426234, -0.0013840239, -0.021525979, -0.016175292, 0.03765659, -0.037229422, -0.04624406, 0.0962582, 0.09214176, 0.044830024, 0.0925979, -0.054071162, 0.03022291, 0.03691672, 0.0035209206, -0.00090993324, 0.0016870644, 0.040236004, 0.03249162, 0.05870278, -0.031921387, -0.057175778, -0.009827459, 0.025310347, 0.06085606, 0.083992384, -0.005940422, -0.025033986, 0.037021622, 0.036812916, 0.024823748, 0.025403595, -0.007100765, -0.032444257, 0.025227766, 0.05264114, -0.063779846, 0.024208715, 0.068079114, 0.02801113, -0.050799917, 0.026938241, -0.020936426, -0.00316165, 0.038183052, 0.021031508, -0.002540572, -0.029106667, 0.03649879, 0.014540517, 0.018719802, -0.016285608, 0.012193643, 0.026114726, 0.010986516, -0.039262664, 0.0007600232, 0.025952158, -0.022738589, 0.05257454, 0.019572567, 0.0022524472, -0.04929109, -0.041388784, -0.058305483, -0.06971698, -0.035671003, -0.00948876, -0.027231282, 0.052181616, 0.022152899, -0.030529357, 0.004574154, 0.02123708, 0.028754111, 0.021012515, 0.09031076, -0.029988239, -0.039711375, 0.03660714, 0.016494436, -0.009590593, -0.045885265, 0.018740254, 0.018228834, 0.03915492, -0.027559135, 0.004711193, 0.015583163, -0.05135215, -0.02988098, 0.07748076, -0.029662065, -0.003685688, 0.040165085, -0.052178312, 0.050207466, -0.03565674, -0.042350244, 0.022293514, -0.03137127, 0.00916647, -0.059561044, 0.005789352, 0.056005474, -0.0052918573, -0.0062495824, 0.036720432, -0.005943365, -0.017103659, 0.03888142, 0.008904784, -0.034651812, -0.019361567, -0.010715, 0.030599333, -0.034333315, -0.016132299, 0.049870223, -0.07720829, -0.029820075, 0.03529346, 0.011201797, -0.035701897, 0.06291978, -0.01326525, 0.009997632, -0.056209244, 0.04471135, 0.043301165, -0.060227185, 0.061784565, 0.035610817, 0.025473969, -0.001445702, -0.0052152337, 0.0061833183, -0.0090798065, 2.428909e-05, 0.0073338514, 0.018535914, -0.016759109, 0.026866328, 0.0012870141, -0.07739216, 0.034640644, -0.042742386, -0.024333058, -0.03912167, -0.0023850412, 0.055019196, -0.018513603, -0.008686373, 0.009359663, -0.008536999, -0.010636143, -0.00804479, -0.032573666, 0.013102709, 0.015611389, -0.00604331, -0.019329086, 0.0454752, 0.003786039, 0.025497817, -0.032349132, 0.012814016, 0.055491593, -0.00030366346, -0.046417963, 0.030606164, 0.002895998, 0.06036561, -0.04148378, -0.04848517, -0.012388237, -0.038399313, -0.028883414, 0.028252326, -0.025733637, 0.004481672, 0.01536311, 0.0256253, -0.030823879, -0.012167593, -0.030912226, -0.004733415, -0.018947484, 0.06496967, -0.0024185998, -0.018883621, -0.022077927, -0.008520218, -0.065750435, 0.0027910566, 0.046744507, -0.03215852, -0.033332642, 0.037086405, -0.059596676, -0.053793248, -0.01858881, 0.021449193, -0.017875904, 0.048484195, 0.026203394, -0.001648537, 0.035439122, -0.03163134, -0.021919109, 0.036325205, 0.04377206, 0.04590272, 0.020469358, 0.028277997, 0.004585899, -0.0011136192, 0.03677898, -0.035393946, 0.051722396, 0.035657253, -0.015930897, -0.0045090504, 0.029951261, -0.016660301, 0.008708734, -0.011835551, -0.0004433557, 0.009411091, 0.010144621, 0.038254797, 0.024293222, -0.03659515, 0.022607543, 0.03636861, -0.006847898, -0.061690416, -0.0061570555, 0.039862547, 0.018083317, 0.0038678905, 0.074107155, -0.008673633, 0.012345484, 0.0022730161, -0.027698224, 0.044029392, 0.046604656, 0.023447212, -0.057111777, -0.024746805, 0.012532147, -0.020650126, -0.013028337, 0.0024308965, -0.010634143, 0.037331935, -0.028096134, -0.030653609, 0.0426155, -0.010492566, -0.055047683, 0.0006295438, -0.028404245, -0.00991749, -0.025688285, -0.01129228, -0.025171021, 0.0043047923, -0.007934872, -0.007396677, -0.009020531, 0.068464875, 0.038608294, 0.04181789, -0.06675497, 0.052557264, 0.03736774, 0.029145053, 0.030556636, 0.052809685, 0.021180296, 0.052516907, 0.013852121, 0.031570252, -0.052518588, -0.034377787, -0.052112926, 0.052139264, -0.021563275, -0.011402521, -0.032801535, -0.0722108, -0.020155562, -0.057413723, 0.03824061, -0.042139623, -0.044081323, -0.007970628, 0.0030275628, 0.026541559, 0.01381125, 0.0126680955, -0.0855409, -0.038436804, -0.021086205, 0.049254294, 0.00064548414, 0.042623084, 0.06359049, 0.0009859741, 0.011272828, -0.008810536, 0.013401399, -0.004082909, 0.020460425, 0.021871254, -0.024840472, -0.05893736, 0.018822584, 0.014712914, 0.025836911, 0.020941177, -0.0065955454, -0.0067434283, -0.005719191, 0.029453013, -0.020992596, 0.008467602, -0.034329187, 0.009913606, -0.02864173, 0.0010442543, 0.00090529816, -0.062151536, -0.041435815, 0.018777352, -0.030890994, 0.042170692, -0.062464163, 0.029086197, -0.04785262, 0.007107615, -0.063798875, -0.028843803, -0.021262243, -0.0047704782, 0.022388972, 0.008132558, -0.041650295, -0.032403663, -0.00871581, 0.005074126, -0.10490926, -0.0073480317, -0.0066488585, 0.05428328, 0.00708287, 0.050028224, 0.040611364, 0.0443321, -0.05568962, 0.029349279, 0.026592575, -0.040763143, 0.0010032792, -0.053621564, 0.0048803417, -0.018362654, -0.003404976, 0.009760058, 0.005866893, 0.036725987, 0.025663165, -0.013003985, 0.02194687, -0.0197621, -0.044588555, 0.014538087, 0.042555578, -0.031322047, -0.012823062, -0.021548614, -0.025224812, -0.012819604, 0.065485574, 0.0023786246, 0.016502064, 0.04578103, 0.0028275168, -0.044095583, -0.022609353, -0.03721393, -0.032452416, 0.021170232, -0.037504777, 0.07295016, 0.059572212, -0.01252403, 0.05950001, -0.0053360253, 0.018947333, 0.0012609587, -0.0031240324, -0.0052896384, -0.027540177, -0.0021351082, 0.011516704, 0.011062736, -0.04127881, 0.059748195, 0.0047338284, -0.07567616, 0.073417224, 0.021504015, -0.03707726, 0.044414356, 0.025181571, -0.028921481, -0.011428935, -0.023610441, 0.04099944, -0.062590696, -0.005902626, -0.005393938, -0.00082514307, 0.0403368, -0.05079677, 0.06407224, -0.033419527, 0.01960457, -0.03710802, 0.023686994, 0.0099874735, 0.004573215, -0.0056421948, 0.017177604, -0.082949705, -0.004246659, -0.07339894, -0.03429296, -0.047519237, 0.043882377, 0.011405829, 0.03359503, 0.004740469, -0.038752332, -0.054347835, 0.017643806, 0.044101354, -0.03851126, -0.00033646668, -0.01996514, -0.031211723, 0.04368761, 0.030311564, -0.021140113, -0.03765921, 0.031173488, -0.016920665, -0.0015476744, 0.076201476, 0.02212809, 0.056197993, 0.07367108, -0.026692588, -0.009024032, 0.03442376, -0.0020722135, -0.052014433, 0.02892596, -0.01570989, -0.023741709, 0.037377268, -0.03369981, 0.034746308, -0.018796308, 0.016601292, -0.00988733, 0.010676962, -0.053554874, 0.03842675, -0.04233902, 0.027581403, -0.016817998, 0.028591977, 0.022513121, -0.014105004, -0.03090409, -0.010658504, -0.01364103, 0.003629272, 0.053526577, -0.05806057, 0.020673223, -0.017425062, -0.05819627, 0.015463079, 0.012709996, 0.04898786, -0.038821857, -0.016952896, 0.050976943, -0.002897304, -0.06593206, 0.0053679952, 0.025858255, 0.03376825, -0.029403063, -0.06466666, -0.013119408, -0.03571992, 0.041869015, -0.06540297, 0.052445404, -0.04258695, 0.0019558612, -0.06543979, 0.02289604, 0.060017664, 0.025638692, 0.021022368, 0.005050277, 0.019294953, -0.050197374, -0.012296736, 0.02935627, -0.05533554, -0.00810736, -0.004496429, -0.08188581, -0.009717142, 0.0458834, 0.0079934485, -0.033979796, 0.0162593, 0.026694005, -0.053921197, -0.07325994, 0.024662271, -0.026037492, 0.008803857, 0.02748608, 0.020981066, -0.0055003203, -0.0454926, -0.029919926, -0.011773077, -0.00787626, -0.065821715, -0.044016518, 0.01980585, -0.018577734, -0.020083556, -0.009894213, -0.00948155, 0.0005929602, -0.07832303, 0.009268111, 0.00466091, -0.08073945, 0.06743282, -0.0071049384, 0.009942145, 0.06916342, -0.012414676, 0.00228579, -0.015929524, 0.03590063, 0.057276055, 0.049124025, 0.0018815224, -0.030008081, 0.04115096, -0.012623001, 0.04617703, 0.008854831, 0.01016065, -0.015195275, -0.030051215, 0.048991848, 0.0052577234, -0.056841552, 0.058896206, 0.03464756, 0.0005956473, -0.005554491, 0.020677472, 0.06319565, 0.060965046, -0.031816553, -0.03869269, -0.004047001, 0.023157533, 0.024163634, -0.011668079, 0.013202648, 0.028432468, 0.013323197, 0.053419814, 0.09070068, -0.03712288, -0.053238448, 0.055840384, -0.011580353, -0.015490631, 0.01136004, 0.025303932, -0.091154374, 0.03806074, 0.020931104, 0.019113835, 0.059493348, -0.08203113, 0.015454523, 0.012515696, -0.02197189, 0.042871267, 0.009591997, -0.08216589, 0.033640355, -0.031957075, -0.0061381105, 0.051485132, -0.023300443, 0.08796534, -0.034386117, 0.019645331, -0.026756017, -0.03893603, -0.03394303, 0.034156498, 0.025270693, 0.020797454, 0.034183905, -0.036015872, -0.0030997912, -0.053293798, 0.009223442, -0.02471212, -0.017381655, 0.017987382, 0.045510218, 0.03851039, 0.09071359, 0.0072151194, 0.02228997, 0.010139321, 0.0066273487, 0.04707055, -0.0065977974, 0.042017516, 0.046314064, 0.044682227, 0.007960216, 0.04484271, -0.03294362, 0.0019469596]\",\n          \"[0.0064746854, -0.0770471, -0.0046696244, -0.04939975, -0.008751382, 0.042451162, -0.009654423, -0.0023740341, -0.016977243, 0.043475058, -0.028580824, 0.025631113, -0.060854863, 0.007226437, -0.002944117, -0.041709784, 5.689791e-05, -0.0024044204, 0.0069568935, -0.043861024, -0.012678889, 0.06259139, -8.031649e-05, -0.027832458, 0.04249781, 0.011658118, 0.02197028, -0.057700045, -0.056477394, 0.048318498, -0.0072032823, 0.02709526, -0.046545334, -0.0054649552, 0.03017936, -0.02070583, -0.020090144, 0.012522629, 0.0017701176, 0.00064714166, 0.02063901, -0.0366082, -0.02094995, -0.019744432, -0.019510148, -0.027021408, -0.03638303, 0.013714016, 0.0035526739, -0.06256616, -0.002158685, -0.059638064, -0.005085754, -0.03261316, -0.0440381, -0.018403206, 0.039856736, 0.02879593, -0.016017085, 0.046403438, -0.029869732, -0.018456357, -0.06526575, 0.061008133, -0.03125653, -0.0053112414, 0.0031203083, 0.03658284, 0.056812376, 0.021122318, 0.0026617988, -0.033626467, 0.04932944, -0.013116655, -0.021542056, -0.100067064, 0.012194942, 0.050816804, -0.010745132, 0.069996364, -0.035714034, -0.047904264, -0.010575817, 0.0011727475, -0.021130811, 0.018235438, 0.041389477, 0.06434845, 0.010572519, 0.057903748, -0.02349568, 0.035941042, 0.036750156, -0.043860022, 0.024278108, 0.053312648, -0.010812819, -0.030050809, 0.0115797445, -0.012517026, -0.033327933, -0.057046328, -0.019151079, 0.06137682, 0.027386805, 0.008711512, 0.0043649552, 0.014920783, 0.03238721, 0.019759, -0.043860685, 0.012005694, 0.0471365, -0.06714968, 0.017231371, -0.034515545, -0.007312021, 0.085223064, 0.019910848, 0.046532925, 0.10359351, -0.043103047, -0.03205253, 0.004518714, 0.019682234, 0.057007823, 0.0034238752, 0.0088334335, 0.07821863, 0.057334542, 0.012196832, -0.023038534, 0.0018367011, -0.03431384, 0.04113813, 0.111624025, 0.028195085, -0.028362734, -0.009985639, -0.02560019, -0.008630721, -0.03283214, -0.012944389, 0.043881517, -0.04049543, 0.037657425, -0.012306474, -0.0061427243, 0.08754707, -0.053442862, 0.0052741608, -0.052294485, -0.05551018, 0.017721128, 0.017344413, 0.010075935, 0.023403315, -0.022587089, 0.00956277, -1.1102417e-06, -0.003413194, -0.00090707996, 0.0070940433, 0.016852485, -0.009672547, 0.009507321, 0.0004148292, 0.004663041, 0.009765871, 0.013608978, -0.005918383, 0.018028582, -0.05414483, -0.048336904, -0.026129717, -0.042824615, 0.017706703, 0.028892355, -0.046009637, 0.009017539, 0.07180452, -0.022127101, 0.028350377, -0.015205628, -0.022287438, 0.039026994, 0.062116735, -0.094501525, -0.05512935, -0.008428688, 0.0068630395, 0.0147060845, -0.057140768, -0.039112512, 0.008543329, 0.03972817, -0.02599391, 0.07941355, -0.006335556, 0.021381387, -0.008487974, 0.06890812, -0.078481324, 0.0010933672, 0.029720057, -0.024735957, 0.008582033, -0.033383574, -0.031166082, 0.009447603, -0.043310873, 0.049552012, -0.06721561, 0.0063100387, 0.02344808, 0.008969378, 0.0016762457, 0.04837199, -0.0216295, -0.052781206, 0.028748771, 0.00810812, -0.024872953, 0.040772554, 0.03423142, 0.05352396, 0.019171111, 0.0333923, 0.03321136, -0.017874522, -0.050600972, 0.093316756, 0.037901152, -0.060768668, 0.07745591, -0.012065074, -0.0028452105, 0.014524851, 0.015558471, 0.02629214, 0.003752212, 0.04247929, 0.014375291, -0.03489023, -0.086621724, 0.032237686, -0.02720853, 0.02658766, 0.006721303, 0.009410644, -0.023526547, -0.014505779, 0.028159626, 0.002912562, -0.10767395, 0.048729625, -0.027433127, -0.005654072, -0.065887876, -0.018437898, 0.091179505, -0.03691078, -0.013713183, -0.02172705, -0.027430458, -0.02108852, -0.027752226, -0.02535391, -0.011809809, 0.03853959, -0.00070912665, -0.00872476, 0.039749548, 0.014187332, -0.036231652, -0.021503845, 0.058078874, 0.012433467, -0.010632082, -0.04516502, 0.05939407, 0.047745936, 0.0002213195, -0.06498359, -0.00041451078, -0.030264765, -0.022135893, -0.04397975, -0.021122856, -0.011953802, -0.059428003, -0.06615767, 0.03729751, -0.03035786, -0.027770009, 0.03040559, -0.0260882, 0.030422352, 0.048339844, -0.033444982, 0.02943044, -0.03563153, 0.017765613, -0.046801914, -0.009529749, 0.0019370203, -0.044864092, -0.039907306, -0.04807166, -0.023475619, -0.027208105, -0.03971027, -0.0018048047, 0.00037997362, 0.022370806, 0.009042459, 0.00426526, 0.023348203, -0.042914115, 0.012687749, 0.024941837, 0.046665624, 0.046724554, -0.020861944, 0.035524715, 0.026121477, -0.0478285, -0.032799933, -0.026188254, 0.013759252, -0.043183643, 0.000782694, 0.010506646, 0.0075376243, 0.0023468947, 0.013555162, -0.06085213, -0.026296644, -0.007928031, 0.0029785885, 0.06277993, -0.008904337, -0.08354775, -0.042678464, -0.0013058882, -0.00965449, -0.08155565, -0.025956612, 0.06571618, 0.011581784, 0.008768438, 0.061519247, -0.015569718, 0.0037349067, 0.008535623, -0.0048903665, 0.024002153, 0.0075336886, 0.022547165, -0.03295622, 0.0076042023, 0.009146227, -0.04298643, 0.030561043, 0.016447881, -0.006016252, -0.022090793, -0.02079831, -0.01962171, 0.017004581, -0.010222702, -0.02326441, 0.044478666, 0.03683686, -0.0016026445, -0.039516408, -0.010364378, -0.06006997, 0.048773922, 0.0088522965, 0.015011226, -0.0032206587, 0.029297598, 0.04128267, 0.05509691, -0.0074006706, 0.012393332, 0.0568759, -0.020312652, 0.04091181, 0.061957534, -0.03492234, 0.09831446, -0.019489257, 0.0018292991, -0.073998444, -0.0058060195, 0.00027981025, -0.008326968, -0.037597235, -0.053966533, -0.049986675, -0.07772816, -0.0035955545, -0.018466337, -0.020939806, -0.029718712, -0.015417505, -0.010945844, 0.002294923, -0.01971675, 0.031193793, -0.021543462, -0.06537928, -0.05786192, -0.009187965, 0.030509388, 0.0070707686, -0.01081861, 0.07063878, -0.013248051, 0.020026147, 0.012523981, -0.041779663, -0.010307777, -0.008945001, 0.050491042, 0.016340327, -0.02697024, 0.040079825, -0.007249803, 0.011993187, 0.0060898755, -0.0027637796, 0.009371869, -0.016499197, 0.011316401, 0.034943286, -0.003696635, -0.0023048366, 0.02313559, -0.010892512, -0.0042107007, 0.00029449788, -0.017040644, -0.015095606, -0.022614175, -0.036360525, 0.008799562, -0.07792051, 0.004647287, -0.045774404, -0.0064723385, -0.042616967, -0.06585155, 0.0040695826, -0.00749534, 0.016306208, 0.00776899, -0.005380373, -0.005883632, 0.032189652, -0.019656776, -0.1179574, -0.013061818, -0.039488856, 0.06753081, 0.0033376554, 0.043735594, 0.019891778, 0.05276889, -0.007507017, -0.012500815, 0.011436797, -0.002714881, -0.028368922, -0.047452535, 0.0038980283, -0.0001494831, 0.010343023, 0.062623896, -0.0022763726, 0.043901797, -0.03704132, 0.007575328, 0.024327077, -0.011413755, -0.02149271, -0.022845909, 0.016579341, -0.0030054823, -0.08218446, 0.0045960927, -0.006461157, 0.0011631357, -0.015248383, 0.038300667, 0.049298007, 0.10514256, 0.019041756, -0.021222457, -0.019786857, -0.040494144, -0.007672863, 0.05271309, -0.053421125, 0.027164143, 0.028483514, -0.016039468, -0.016367532, 0.029971812, -0.00046803214, -0.0010918177, -0.011343682, 0.03039195, 0.059793707, 0.005613126, 0.028497519, 0.04077888, -0.020825699, 0.06270984, -0.019893635, -0.04416145, 0.003519184, 0.0019102453, -0.08415924, 0.031038245, 0.038486023, -0.05725673, -0.001479726, -0.033169977, 0.05721274, -0.047827598, -0.028733017, 0.013398105, -0.04405905, -0.0052758683, -0.04317625, 0.04277106, -0.04406301, 0.0294933, 0.0024655478, -0.0003615353, 0.019588374, -0.029932654, -0.0060506864, 0.060887557, -0.0929908, -0.018206347, -0.03335534, -0.020266557, -0.052207172, 0.05940602, -0.009420577, -0.015502797, 0.037183538, -0.00010198334, -0.03230208, 0.052121796, 0.025848826, -0.011149226, -0.039618995, 0.0047013136, 0.016954841, 0.06774559, 0.029939357, -0.017177377, -0.043345753, 0.07489211, -0.03488674, -0.034529977, -0.0006161037, 0.054372326, -0.022636253, 0.08622324, -0.008229627, -0.0017516963, 0.012998691, -0.016674316, -0.044377673, 0.039691452, -0.020378327, 0.010176393, -0.0063366713, -0.032555375, 0.07685311, -0.002037343, 0.032412425, 0.014455729, -0.02892601, -0.06021613, -0.001016295, -0.017574936, -0.011654443, 0.0016850014, 0.017236162, 0.009048749, 0.0034050122, -0.017201234, -0.010804754, -0.0015242227, -0.027262669, -0.002485723, -0.05229463, 0.008609566, -0.027655222, 0.01526937, -0.033099003, 0.03449204, -0.007732046, -0.018558115, -0.03621777, 0.040673755, 0.0095471265, -0.04574476, -0.045364626, 0.036664937, 0.03132268, 0.022449683, -0.07032773, -0.02127116, -0.056010254, 0.053245492, -0.03383243, 0.07321639, 0.030699845, 0.01989639, -0.03392802, 0.039262433, 0.0637695, 0.059339695, 0.033488885, 0.019988714, -0.028756723, -0.025127517, -0.017140938, 0.0028890788, -0.010645009, -0.021368422, 0.024791349, -0.044058967, 0.00045372162, 0.03292742, -0.020322535, 0.016459834, 0.00037483248, 0.08073527, -0.06775276, -0.055984393, 0.03940043, -0.023290364, 0.0026830828, 0.052988596, 0.058534145, 0.04866519, 0.0063681905, -0.01390549, -0.004681063, 0.058490116, -0.016085796, -0.049928028, -0.007709513, 0.0043334016, 0.011337335, 0.0458162, -0.011734929, -0.04970707, -0.088887386, 0.004427461, -0.0022739647, -0.08022562, 0.014666074, 0.03973079, -0.015605515, 0.04592677, 0.03258127, -0.033672, 0.02883172, 0.020565296, 0.019674659, 0.017225139, -0.040651295, -0.037734784, 0.009509954, -0.007724217, 0.051146507, 0.06205273, 0.028177606, -0.03049513, -0.014404749, -0.0029466348, 0.0056120753, -0.05746235, 0.03640787, 0.04410929, -0.0039257803, -0.038266994, 0.028162362, 0.04195082, 0.09227108, -0.018814756, -0.069198206, 0.02789131, 0.037647236, 0.05865537, 0.017830238, -0.0027819702, -0.018743757, 0.01719977, -0.003891664, 0.00030824041, -0.015891548, -0.030381022, -0.0104270615, 0.026963962, 0.0125204455, -0.023796204, 0.008816971, -0.025780486, 0.04640243, 0.017546043, -0.018659513, -0.0019967367, -0.016116017, -0.011381188, 0.045806993, -0.032019783, 0.050943997, -0.018946415, 0.008945985, 0.026841551, -0.01761036, 0.018877862, -0.0017134616, -0.025299378, 0.092105776, -0.03947978, 0.011713159, -0.036604278, -0.055057593, -0.0068274424, 0.036966655, 0.033586465, 0.026874825, 0.071817264, -0.020965684, 0.0029312952, 0.0035610348, 0.036144696, 0.011023899, -0.005709671, 0.0034780456, -0.029109308, 0.035092697, -0.018198797, -0.011768479, 0.028683644, 0.007158803, 0.0027520072, 0.027327033, -0.028938305, 0.030942965, -0.031761404, 0.008557114, -0.01189274, -0.021109508, -0.02359354, 0.049036294]\"\n        ],\n        \"semantic_type\": \"\",\n        \"description\": \"\"\n      }\n    }\n  ]\n}"
            }
          },
          "metadata": {},
          "execution_count": 154
        }
      ],
      "source": [
        "df_train"
      ]
    },
    {
      "cell_type": "markdown",
      "metadata": {
        "id": "ITDgX_rvyV24"
      },
      "source": [
        "#Lets build a simple classification model"
      ]
    },
    {
      "cell_type": "code",
      "source": [
        "import ast\n",
        "df_train['Embeddings'] = df_train['Embeddings'].apply(ast.literal_eval)\n",
        "df_test['Embeddings'] = df_test['Embeddings'].apply(ast.literal_eval)"
      ],
      "metadata": {
        "id": "_V9bRN32VxcV"
      },
      "execution_count": null,
      "outputs": []
    },
    {
      "cell_type": "code",
      "source": [
        "from keras.models import Model\n",
        "from keras.layers import Input, Dense\n",
        "from keras.optimizers import Adam\n",
        "import keras"
      ],
      "metadata": {
        "id": "amiqSBAisuZy"
      },
      "execution_count": null,
      "outputs": []
    },
    {
      "cell_type": "code",
      "source": [
        "def build_classification_model(input_size: int) -> keras.Model:\n",
        "    # Define input layer\n",
        "    inputs = Input(shape=(input_size,))\n",
        "\n",
        "    # Add hidden layer with ReLU activation\n",
        "    x = Dense(64, activation='relu')(inputs)\n",
        "\n",
        "    # Output layer with sigmoid activation for binary classification\n",
        "    outputs = Dense(1, activation='sigmoid')(x)\n",
        "\n",
        "    # Create and return the model\n",
        "    model = Model(inputs=inputs, outputs=outputs)\n",
        "    return model"
      ],
      "metadata": {
        "id": "97_Zel7OcZym"
      },
      "execution_count": null,
      "outputs": []
    },
    {
      "cell_type": "code",
      "source": [
        "# Derive the embedding size from the first training element\n",
        "embedding_size = len(df_train['Embeddings'].iloc[0])\n",
        "\n",
        "# Build the classification model\n",
        "classifier = build_classification_model(embedding_size)\n",
        "classifier.summary()\n",
        "\n",
        "# Compile the model for binary classification\n",
        "classifier.compile(\n",
        "    loss='binary_crossentropy',\n",
        "    optimizer=Adam(learning_rate=0.0001),\n",
        "    metrics=['accuracy']\n",
        ")"
      ],
      "metadata": {
        "colab": {
          "base_uri": "https://localhost:8080/"
        },
        "id": "65PN05D5m6MQ",
        "outputId": "d116d580-bf62-4c64-e4ab-6930a961b775"
      },
      "execution_count": null,
      "outputs": [
        {
          "output_type": "stream",
          "name": "stdout",
          "text": [
            "Model: \"model_15\"\n",
            "_________________________________________________________________\n",
            " Layer (type)                Output Shape              Param #   \n",
            "=================================================================\n",
            " input_17 (InputLayer)       [(None, 768)]             0         \n",
            "                                                                 \n",
            " dense_24 (Dense)            (None, 64)                49216     \n",
            "                                                                 \n",
            " dense_25 (Dense)            (None, 1)                 65        \n",
            "                                                                 \n",
            "=================================================================\n",
            "Total params: 49281 (192.50 KB)\n",
            "Trainable params: 49281 (192.50 KB)\n",
            "Non-trainable params: 0 (0.00 Byte)\n",
            "_________________________________________________________________\n"
          ]
        }
      ]
    },
    {
      "cell_type": "markdown",
      "metadata": {
        "id": "xq4Q45HnyoG8"
      },
      "source": [
        "##Train the model to classify Reddit titles"
      ]
    },
    {
      "cell_type": "code",
      "execution_count": null,
      "metadata": {
        "id": "1_vLhEXUyq4L",
        "colab": {
          "base_uri": "https://localhost:8080/"
        },
        "outputId": "7605f331-0bca-4b7b-dcb7-c6e115628526"
      },
      "outputs": [
        {
          "output_type": "stream",
          "name": "stdout",
          "text": [
            "Epoch 1/20\n",
            "400/400 [==============================] - 12s 29ms/step - loss: 0.6902 - accuracy: 0.5450 - val_loss: 0.6853 - val_accuracy: 0.6262\n",
            "Epoch 2/20\n",
            "400/400 [==============================] - 5s 12ms/step - loss: 0.6789 - accuracy: 0.6225 - val_loss: 0.6867 - val_accuracy: 0.5229\n",
            "Epoch 3/20\n",
            "400/400 [==============================] - 12s 30ms/step - loss: 0.6661 - accuracy: 0.6480 - val_loss: 0.6845 - val_accuracy: 0.5180\n",
            "Epoch 4/20\n",
            "400/400 [==============================] - 8s 19ms/step - loss: 0.6534 - accuracy: 0.6730 - val_loss: 0.6573 - val_accuracy: 0.6492\n",
            "Epoch 5/20\n",
            "400/400 [==============================] - 5s 13ms/step - loss: 0.6404 - accuracy: 0.6815 - val_loss: 0.6424 - val_accuracy: 0.6742\n",
            "Epoch 6/20\n",
            "400/400 [==============================] - 5s 12ms/step - loss: 0.6270 - accuracy: 0.6920 - val_loss: 0.6268 - val_accuracy: 0.6917\n",
            "Epoch 7/20\n",
            "400/400 [==============================] - 7s 17ms/step - loss: 0.6150 - accuracy: 0.6950 - val_loss: 0.6229 - val_accuracy: 0.6744\n",
            "Epoch 8/20\n",
            "400/400 [==============================] - 5s 12ms/step - loss: 0.6045 - accuracy: 0.7000 - val_loss: 0.6301 - val_accuracy: 0.6390\n",
            "Epoch 9/20\n",
            "400/400 [==============================] - 5s 12ms/step - loss: 0.5934 - accuracy: 0.6995 - val_loss: 0.5889 - val_accuracy: 0.7130\n",
            "Epoch 10/20\n",
            "400/400 [==============================] - 8s 21ms/step - loss: 0.5843 - accuracy: 0.7095 - val_loss: 0.5913 - val_accuracy: 0.6937\n",
            "Epoch 11/20\n",
            "400/400 [==============================] - 6s 15ms/step - loss: 0.5748 - accuracy: 0.7145 - val_loss: 0.6193 - val_accuracy: 0.6371\n",
            "Epoch 12/20\n",
            "400/400 [==============================] - 11s 28ms/step - loss: 0.5685 - accuracy: 0.7175 - val_loss: 0.5975 - val_accuracy: 0.6674\n",
            "Epoch 13/20\n",
            "400/400 [==============================] - 6s 15ms/step - loss: 0.5615 - accuracy: 0.7180 - val_loss: 0.5614 - val_accuracy: 0.7153\n",
            "Epoch 14/20\n",
            "400/400 [==============================] - 6s 15ms/step - loss: 0.5547 - accuracy: 0.7245 - val_loss: 0.5683 - val_accuracy: 0.7016\n",
            "Epoch 15/20\n",
            "400/400 [==============================] - 6s 15ms/step - loss: 0.5498 - accuracy: 0.7350 - val_loss: 0.5636 - val_accuracy: 0.7031\n",
            "Epoch 16/20\n",
            "400/400 [==============================] - 11s 28ms/step - loss: 0.5454 - accuracy: 0.7325 - val_loss: 0.5666 - val_accuracy: 0.6959\n",
            "Epoch 17/20\n",
            "400/400 [==============================] - 6s 15ms/step - loss: 0.5381 - accuracy: 0.7395 - val_loss: 0.5633 - val_accuracy: 0.6966\n",
            "Epoch 18/20\n",
            "400/400 [==============================] - 7s 17ms/step - loss: 0.5342 - accuracy: 0.7485 - val_loss: 0.5382 - val_accuracy: 0.7227\n",
            "Epoch 19/20\n",
            "400/400 [==============================] - 6s 15ms/step - loss: 0.5309 - accuracy: 0.7465 - val_loss: 0.5717 - val_accuracy: 0.6829\n",
            "Epoch 20/20\n",
            "400/400 [==============================] - 7s 17ms/step - loss: 0.5267 - accuracy: 0.7395 - val_loss: 0.5539 - val_accuracy: 0.7022\n"
          ]
        }
      ],
      "source": [
        "# Specify number of epochs and batch size for training\n",
        "NUM_EPOCHS = 20\n",
        "BATCH_SIZE = 5\n",
        "\n",
        "# Extract labels and convert embeddings list into a numpy array for training\n",
        "y_train = df_train['Encoded Label']\n",
        "x_train = np.stack(df_train['Embeddings'])\n",
        "y_val = df_test['Encoded Label']\n",
        "x_val = np.stack(df_test['Embeddings'])\n",
        "\n",
        "# Setup early stopping callback to prevent overfitting\n",
        "callback = keras.callbacks.EarlyStopping(monitor='accuracy', patience=3)\n",
        "\n",
        "# Train the model\n",
        "history = classifier.fit(\n",
        "    x=x_train,\n",
        "    y=y_train,\n",
        "    validation_data=(x_val, y_val),\n",
        "    callbacks=[callback],\n",
        "    batch_size=BATCH_SIZE,\n",
        "    epochs=NUM_EPOCHS,\n",
        ")"
      ]
    },
    {
      "cell_type": "markdown",
      "metadata": {
        "id": "6s-VFrU1y8w3"
      },
      "source": [
        "#Evaluate model performance"
      ]
    },
    {
      "cell_type": "code",
      "source": [
        "x_val = np.stack(df_test['Embeddings'].values)\n",
        "\n",
        "print(\"Shape of x_val:\", x_val.shape)\n",
        "print(\"Shape of y_val:\", y_val.shape)"
      ],
      "metadata": {
        "colab": {
          "base_uri": "https://localhost:8080/"
        },
        "id": "SWJhFAeHXnW3",
        "outputId": "8d85f486-03df-410e-8cbc-b05be3a9aa7d"
      },
      "execution_count": null,
      "outputs": [
        {
          "output_type": "stream",
          "name": "stdout",
          "text": [
            "Shape of x_val: (14559, 768)\n",
            "Shape of y_val: (14559,)\n"
          ]
        }
      ]
    },
    {
      "cell_type": "code",
      "source": [
        "results = classifier.evaluate(x=x_val, y=y_val, return_dict=True)\n",
        "print(\"Evaluation results:\", results)"
      ],
      "metadata": {
        "colab": {
          "base_uri": "https://localhost:8080/"
        },
        "id": "V32S03JsX-2Z",
        "outputId": "151cc094-70b5-4a5b-ce91-3e5f018e0038"
      },
      "execution_count": null,
      "outputs": [
        {
          "output_type": "stream",
          "name": "stdout",
          "text": [
            "455/455 [==============================] - 1s 2ms/step - loss: 0.5539 - accuracy: 0.7022\n",
            "Evaluation results: {'loss': 0.553912341594696, 'accuracy': 0.7021773457527161}\n"
          ]
        }
      ]
    },
    {
      "cell_type": "markdown",
      "metadata": {
        "id": "Bibkpw4bzIdI"
      },
      "source": [
        "## Lets plot the loss and acuracy over epochs"
      ]
    },
    {
      "cell_type": "code",
      "execution_count": null,
      "metadata": {
        "id": "nKSJ8N1ezPWc",
        "colab": {
          "base_uri": "https://localhost:8080/",
          "height": 660
        },
        "outputId": "1abfa3fe-dc03-4d29-8cb1-78400d06ee2f"
      },
      "outputs": [
        {
          "output_type": "display_data",
          "data": {
            "text/plain": [
              "<Figure size 2000x800 with 2 Axes>"
            ],
            "image/png": "[encoded data removed]"
          },
          "metadata": {}
        }
      ],
      "source": [
        "def plot_history(history):\n",
        "  \"\"\"\n",
        "    Plotting training and validation learning curves.\n",
        "\n",
        "    Args:\n",
        "      history: model history with all the metric measures\n",
        "  \"\"\"\n",
        "  fig, (ax1, ax2) = plt.subplots(1,2)\n",
        "  fig.set_size_inches(20, 8)\n",
        "\n",
        "  # Plot loss\n",
        "  ax1.set_title('Loss')\n",
        "  ax1.plot(history.history['loss'], label = 'train')\n",
        "  ax1.plot(history.history['val_loss'], label = 'test')\n",
        "  ax1.set_ylabel('Loss')\n",
        "\n",
        "  ax1.set_xlabel('Epoch')\n",
        "  ax1.legend(['Train', 'Validation'])\n",
        "\n",
        "  # Plot accuracy\n",
        "  ax2.set_title('Accuracy')\n",
        "  ax2.plot(history.history['accuracy'],  label = 'train')\n",
        "  ax2.plot(history.history['val_accuracy'], label = 'test')\n",
        "  ax2.set_ylabel('Accuracy')\n",
        "  ax2.set_xlabel('Epoch')\n",
        "  ax2.legend(['Train', 'Validation'])\n",
        "\n",
        "  plt.show()\n",
        "\n",
        "plot_history(history)"
      ]
    },
    {
      "cell_type": "markdown",
      "metadata": {
        "id": "ZFshpcZRzVHh"
      },
      "source": [
        "## Plotting the Confusion Matrix"
      ]
    },
    {
      "cell_type": "code",
      "source": [
        "y_hat = classifier.predict(x=x_val)\n",
        "y_hat = np.argmax(y_hat, axis=1)"
      ],
      "metadata": {
        "colab": {
          "base_uri": "https://localhost:8080/"
        },
        "id": "Oy11vJ00pU0h",
        "outputId": "91c99d17-2751-4204-cad2-1d89f77c9777"
      },
      "execution_count": null,
      "outputs": [
        {
          "output_type": "stream",
          "name": "stdout",
          "text": [
            "455/455 [==============================] - 2s 4ms/step\n"
          ]
        }
      ]
    },
    {
      "cell_type": "code",
      "source": [
        "labels_dict = dict(zip(df_test['subreddit'], df_test['Encoded Label']))\n",
        "labels_dict"
      ],
      "metadata": {
        "colab": {
          "base_uri": "https://localhost:8080/"
        },
        "id": "_DWfY0ZypZoB",
        "outputId": "4752d8ed-a069-4d78-c30e-dcdf33d253e4"
      },
      "execution_count": null,
      "outputs": [
        {
          "output_type": "execute_result",
          "data": {
            "text/plain": [
              "{'UPenn': 1, 'Rutgers': 0}"
            ]
          },
          "metadata": {},
          "execution_count": 238
        }
      ]
    },
    {
      "cell_type": "code",
      "execution_count": null,
      "metadata": {
        "id": "01rhE608zbl-",
        "colab": {
          "base_uri": "https://localhost:8080/",
          "height": 511
        },
        "outputId": "5f63e8ad-4fc6-4654-f9a2-63ed3b0f17bd"
      },
      "outputs": [
        {
          "output_type": "display_data",
          "data": {
            "text/plain": [
              "<Figure size 640x480 with 2 Axes>"
            ],
            "image/png": "[encoded data removed]"
          },
          "metadata": {}
        }
      ],
      "source": [
        "cm = skmetrics.confusion_matrix(y_val, y_hat)\n",
        "disp = skmetrics.ConfusionMatrixDisplay(confusion_matrix=cm,\n",
        "                              display_labels=labels_dict.keys())\n",
        "disp.plot(xticks_rotation='vertical')\n",
        "plt.title('Confusion matrix for newsgroup test dataset');\n",
        "plt.grid(False)"
      ]
    },
    {
      "cell_type": "code",
      "source": [
        "from sklearn.metrics import confusion_matrix\n",
        "import matplotlib.pyplot as plt\n",
        "import seaborn as sns\n",
        "\n",
        "# Predict classes using the trained classifier\n",
        "y_pred = classifier.predict(x_val)\n",
        "y_pred_classes = np.argmax(y_pred, axis=1)\n",
        "\n",
        "# Compute confusion matrix\n",
        "conf_matrix = confusion_matrix(y_val, y_pred_classes)\n",
        "\n",
        "# Plot confusion matrix\n",
        "plt.figure(figsize=(8, 6))\n",
        "sns.heatmap(conf_matrix, annot=True, fmt=\"d\", cmap=\"Blues\")\n",
        "plt.title(\"Confusion Matrix\")\n",
        "plt.xlabel(\"Predicted Labels\")\n",
        "plt.ylabel(\"True Labels\")\n",
        "plt.show()"
      ],
      "metadata": {
        "colab": {
          "base_uri": "https://localhost:8080/",
          "height": 581
        },
        "id": "dkpbs3pguHrs",
        "outputId": "d1526875-6983-4fb5-d386-9f209e7abbfe"
      },
      "execution_count": null,
      "outputs": [
        {
          "output_type": "stream",
          "name": "stdout",
          "text": [
            "455/455 [==============================] - 1s 3ms/step\n"
          ]
        },
        {
          "output_type": "display_data",
          "data": {
            "text/plain": [
              "<Figure size 800x600 with 2 Axes>"
            ],
            "image/png": "[encoded data removed]"
          },
          "metadata": {}
        }
      ]
    },
    {
      "cell_type": "markdown",
      "source": [
        "##ROC for Keras Model"
      ],
      "metadata": {
        "id": "DrzjT5aLk3Np"
      }
    },
    {
      "cell_type": "code",
      "source": [
        "# Assuming y_scores_keras is the output of classifier.predict(x_val) and it's correctly shaped\n",
        "y_scores_keras = classifier.predict(x_val).squeeze()\n",
        "\n",
        "# Check the shape after squeezing to make sure it's now a one-dimensional array\n",
        "print(\"y_scores_keras shape after squeezing:\", y_scores_keras.shape)\n",
        "\n",
        "# Now, y_scores_keras should have the same length as y_val\n",
        "fpr_keras, tpr_keras, thresholds_keras = roc_curve(y_val, y_scores_keras)\n",
        "roc_auc_keras = auc(fpr_keras, tpr_keras)\n",
        "\n",
        "# Display ROC AUC\n",
        "print(\"ROC AUC for Keras Model:\", roc_auc_keras)"
      ],
      "metadata": {
        "colab": {
          "base_uri": "https://localhost:8080/"
        },
        "id": "LYK4kTbIqLNk",
        "outputId": "d49058aa-d50e-4ac5-d8ab-a783a118c809"
      },
      "execution_count": null,
      "outputs": [
        {
          "output_type": "stream",
          "name": "stdout",
          "text": [
            "455/455 [==============================] - 1s 2ms/step\n",
            "y_scores_keras shape after squeezing: (14559,)\n",
            "ROC AUC for Keras Model: 0.7555850987901964\n"
          ]
        }
      ]
    },
    {
      "cell_type": "code",
      "source": [
        "# Assuming y_scores_keras is the output of classifier.predict(x_val) and it's correctly shaped\n",
        "y_scores_keras = classifier.predict(x_val)\n",
        "\n",
        "fpr_keras, tpr_keras, thresholds_keras = roc_curve(y_val, y_scores_keras.ravel())\n",
        "roc_auc_keras = auc(fpr_keras, tpr_keras)\n",
        "\n",
        "# Display ROC AUC\n",
        "print(\"ROC AUC for Keras Model:\", roc_auc_keras)"
      ],
      "metadata": {
        "colab": {
          "base_uri": "https://localhost:8080/"
        },
        "id": "zb0opDJziZC_",
        "outputId": "b8d2d942-1607-4c23-868e-e3a1018831f3"
      },
      "execution_count": null,
      "outputs": [
        {
          "output_type": "stream",
          "name": "stdout",
          "text": [
            "455/455 [==============================] - 1s 2ms/step\n",
            "ROC AUC for Keras Model: 0.7555850987901964\n"
          ]
        }
      ]
    },
    {
      "cell_type": "code",
      "source": [
        "# Optionally, plot the ROC curve\n",
        "import matplotlib.pyplot as plt\n",
        "\n",
        "plt.figure(figsize=(8, 6))\n",
        "plt.plot(fpr_keras, tpr_keras, label='Keras Model (area = {:.2f})'.format(roc_auc_keras))\n",
        "plt.plot([0, 1], [0, 1], 'k--')  # Dashed diagonal\n",
        "plt.xlabel('False Positive Rate')\n",
        "plt.ylabel('True Positive Rate')\n",
        "plt.title('ROC Curve')\n",
        "plt.legend(loc='lower right')\n",
        "plt.show()"
      ],
      "metadata": {
        "colab": {
          "base_uri": "https://localhost:8080/",
          "height": 564
        },
        "id": "ITp1uMzbiz7Y",
        "outputId": "27f761f0-5301-4355-b7f3-759866741d92"
      },
      "execution_count": null,
      "outputs": [
        {
          "output_type": "display_data",
          "data": {
            "text/plain": [
              "<Figure size 800x600 with 1 Axes>"
            ],
            "image/png": "[encoded data removed]"
          },
          "metadata": {}
        }
      ]
    },
    {
      "cell_type": "markdown",
      "metadata": {
        "id": "7bnVDNAhMwgY"
      },
      "source": [
        "#SHAP for Model Test"
      ]
    },
    {
      "cell_type": "code",
      "execution_count": null,
      "metadata": {
        "id": "x53XQhByM1Me",
        "colab": {
          "base_uri": "https://localhost:8080/"
        },
        "outputId": "107a00f7-0e5e-4d94-ad75-b96169150aab"
      },
      "outputs": [
        {
          "output_type": "stream",
          "name": "stdout",
          "text": [
            "Requirement already satisfied: shap in /usr/local/lib/python3.10/dist-packages (0.45.0)\n",
            "Requirement already satisfied: numpy in /usr/local/lib/python3.10/dist-packages (from shap) (1.25.2)\n",
            "Requirement already satisfied: scipy in /usr/local/lib/python3.10/dist-packages (from shap) (1.11.4)\n",
            "Requirement already satisfied: scikit-learn in /usr/local/lib/python3.10/dist-packages (from shap) (1.2.2)\n",
            "Requirement already satisfied: pandas in /usr/local/lib/python3.10/dist-packages (from shap) (2.0.3)\n",
            "Requirement already satisfied: tqdm>=4.27.0 in /usr/local/lib/python3.10/dist-packages (from shap) (4.66.2)\n",
            "Requirement already satisfied: packaging>20.9 in /usr/local/lib/python3.10/dist-packages (from shap) (24.0)\n",
            "Requirement already satisfied: slicer==0.0.7 in /usr/local/lib/python3.10/dist-packages (from shap) (0.0.7)\n",
            "Requirement already satisfied: numba in /usr/local/lib/python3.10/dist-packages (from shap) (0.58.1)\n",
            "Requirement already satisfied: cloudpickle in /usr/local/lib/python3.10/dist-packages (from shap) (2.2.1)\n",
            "Requirement already satisfied: llvmlite<0.42,>=0.41.0dev0 in /usr/local/lib/python3.10/dist-packages (from numba->shap) (0.41.1)\n",
            "Requirement already satisfied: python-dateutil>=2.8.2 in /usr/local/lib/python3.10/dist-packages (from pandas->shap) (2.8.2)\n",
            "Requirement already satisfied: pytz>=2020.1 in /usr/local/lib/python3.10/dist-packages (from pandas->shap) (2023.4)\n",
            "Requirement already satisfied: tzdata>=2022.1 in /usr/local/lib/python3.10/dist-packages (from pandas->shap) (2024.1)\n",
            "Requirement already satisfied: joblib>=1.1.1 in /usr/local/lib/python3.10/dist-packages (from scikit-learn->shap) (1.4.0)\n",
            "Requirement already satisfied: threadpoolctl>=2.0.0 in /usr/local/lib/python3.10/dist-packages (from scikit-learn->shap) (3.4.0)\n",
            "Requirement already satisfied: six>=1.5 in /usr/local/lib/python3.10/dist-packages (from python-dateutil>=2.8.2->pandas->shap) (1.16.0)\n"
          ]
        }
      ],
      "source": [
        "pip install shap"
      ]
    },
    {
      "cell_type": "code",
      "execution_count": null,
      "metadata": {
        "id": "O9O0OINxNabv",
        "colab": {
          "base_uri": "https://localhost:8080/",
          "height": 786
        },
        "outputId": "0404e8da-1949-4d03-9a50-2da5e1e75483"
      },
      "outputs": [
        {
          "output_type": "stream",
          "name": "stderr",
          "text": [
            "/usr/local/lib/python3.10/dist-packages/shap/explainers/_deep/deep_tf.py:99: UserWarning: Your TensorFlow version is newer than 2.4.0 and so graph support has been removed in eager mode and some static graphs may not be supported. See PR #1483 for discussion.\n",
            "  warnings.warn(\"Your TensorFlow version is newer than 2.4.0 and so graph support has been removed in eager mode and some static graphs may not be supported. See PR #1483 for discussion.\")\n",
            "/usr/local/lib/python3.10/dist-packages/keras/src/backend.py:452: UserWarning: `tf.keras.backend.set_learning_phase` is deprecated and will be removed after 2020-10-11. To update it, simply pass a True/False value to the `training` argument of the `__call__` method of your layer or model.\n",
            "  warnings.warn(\n"
          ]
        },
        {
          "output_type": "display_data",
          "data": {
            "text/plain": [
              "<Figure size 1150x660 with 2 Axes>"
            ],
            "image/png": "[encoded data removed]"
          },
          "metadata": {}
        }
      ],
      "source": [
        "import shap\n",
        "\n",
        "# Initialize a SHAP Deep Explainer with more data points if possible\n",
        "explainer = shap.DeepExplainer(classifier, x_train[:100])\n",
        "\n",
        "# Compute SHAP values for a larger subset of your test data, if computational resources allow\n",
        "shap_values = explainer.shap_values(x_val[:300])  # Adjust the number based on your dataset\n",
        "\n",
        "# Make a bar plot instead of beeswarm for clearer feature importance visualization\n",
        "shap.summary_plot(shap_values, features=x_val[:300], feature_names=df.columns, plot_type='bar')"
      ]
    },
    {
      "cell_type": "markdown",
      "metadata": {
        "id": "AuOovatLQXTc"
      },
      "source": [
        "#TSV file creation"
      ]
    },
    {
      "cell_type": "code",
      "execution_count": null,
      "metadata": {
        "id": "Ce5_W6OHPJZ4",
        "colab": {
          "base_uri": "https://localhost:8080/",
          "height": 35
        },
        "outputId": "c442a1f4-cd15-423b-8f69-723702ddff9e"
      },
      "outputs": [
        {
          "output_type": "execute_result",
          "data": {
            "text/plain": [
              "'all_embeddings.tsv'"
            ],
            "application/vnd.google.colaboratory.intrinsic+json": {
              "type": "string"
            }
          },
          "metadata": {},
          "execution_count": 61
        }
      ],
      "source": [
        "# Concatenate the embeddings from both the training and test sets\n",
        "all_embeddings = pd.concat([df_train['Embeddings'], df_test['Embeddings']], ignore_index=True)\n",
        "\n",
        "# Convert each list of embeddings in the series to a separate row in a new dataframe\n",
        "embeddings_df = pd.DataFrame(all_embeddings.tolist())\n",
        "\n",
        "# Save this dataframe to a TSV file\n",
        "embeddings_tsv_path = 'all_embeddings.tsv'\n",
        "embeddings_df.to_csv(embeddings_tsv_path, sep='\\t', index=False, header=False)\n",
        "\n",
        "embeddings_tsv_path"
      ]
    },
    {
      "cell_type": "markdown",
      "metadata": {
        "id": "wv_ME7Z4TAdH"
      },
      "source": [
        "# Treditional ML"
      ]
    },
    {
      "cell_type": "code",
      "execution_count": null,
      "metadata": {
        "id": "8RKS8ZXCTVgn"
      },
      "outputs": [],
      "source": [
        "def sample_and_encode_data(df, num_samples=None):\n",
        "    # Sample data if num_samples is specified\n",
        "    if num_samples:\n",
        "        df = df.groupby('subreddit', as_index=False).apply(lambda x: x.sample\n",
        "         (num_samples, replace=True, random_state=42)).reset_index(drop=True)\n",
        "\n",
        "    # Encode the 'subreddit' column as categorical codes\n",
        "    df['subreddit'] = df['subreddit'].astype('category')\n",
        "    df['Encoded Label'] = df['subreddit'].cat.codes\n",
        "\n",
        "    return df\n",
        "\n",
        "# Now call this function on your DataFrame\n",
        "df_encoded = sample_and_encode_data(sampled_data)"
      ]
    },
    {
      "cell_type": "code",
      "source": [
        "df_encoded"
      ],
      "metadata": {
        "id": "tH54g0pQfiaW",
        "colab": {
          "base_uri": "https://localhost:8080/",
          "height": 424
        },
        "outputId": "1d6fbc89-34db-4867-ba91-e2b08d128051"
      },
      "execution_count": null,
      "outputs": [
        {
          "output_type": "execute_result",
          "data": {
            "text/plain": [
              "       subreddit                                    processed_title  \\\n",
              "88842    Rutgers              Intro Environmental Science Francisco   \n",
              "117664   Rutgers              Rutgers invest money Computer Science   \n",
              "99275    Rutgers                                get football ticket   \n",
              "120847   Rutgers                               Schedule change help   \n",
              "100947   Rutgers  feel like ’ behind prebusiness reqs first year...   \n",
              "...          ...                                                ...   \n",
              "145793     UPenn                        Picking book course reserve   \n",
              "141527     UPenn          Reliable Summer Storage Options near Penn   \n",
              "141252     UPenn                      Anyone Percec Orgo previously   \n",
              "150549     UPenn                     Anyone going Boston fall break   \n",
              "148731     UPenn                                        Penn summer   \n",
              "\n",
              "        Encoded Label  \n",
              "88842               0  \n",
              "117664              0  \n",
              "99275               0  \n",
              "120847              0  \n",
              "100947              0  \n",
              "...               ...  \n",
              "145793              1  \n",
              "141527              1  \n",
              "141252              1  \n",
              "150549              1  \n",
              "148731              1  \n",
              "\n",
              "[4000 rows x 3 columns]"
            ],
            "text/html": [
              "\n",
              "  <div id=\"df-3aac3f84-b9dc-4fef-a978-2623d23a4517\" class=\"colab-df-container\">\n",
              "    <div>\n",
              "<style scoped>\n",
              "    .dataframe tbody tr th:only-of-type {\n",
              "        vertical-align: middle;\n",
              "    }\n",
              "\n",
              "    .dataframe tbody tr th {\n",
              "        vertical-align: top;\n",
              "    }\n",
              "\n",
              "    .dataframe thead th {\n",
              "        text-align: right;\n",
              "    }\n",
              "</style>\n",
              "<table border=\"1\" class=\"dataframe\">\n",
              "  <thead>\n",
              "    <tr style=\"text-align: right;\">\n",
              "      <th></th>\n",
              "      <th>subreddit</th>\n",
              "      <th>processed_title</th>\n",
              "      <th>Encoded Label</th>\n",
              "    </tr>\n",
              "  </thead>\n",
              "  <tbody>\n",
              "    <tr>\n",
              "      <th>88842</th>\n",
              "      <td>Rutgers</td>\n",
              "      <td>Intro Environmental Science Francisco</td>\n",
              "      <td>0</td>\n",
              "    </tr>\n",
              "    <tr>\n",
              "      <th>117664</th>\n",
              "      <td>Rutgers</td>\n",
              "      <td>Rutgers invest money Computer Science</td>\n",
              "      <td>0</td>\n",
              "    </tr>\n",
              "    <tr>\n",
              "      <th>99275</th>\n",
              "      <td>Rutgers</td>\n",
              "      <td>get football ticket</td>\n",
              "      <td>0</td>\n",
              "    </tr>\n",
              "    <tr>\n",
              "      <th>120847</th>\n",
              "      <td>Rutgers</td>\n",
              "      <td>Schedule change help</td>\n",
              "      <td>0</td>\n",
              "    </tr>\n",
              "    <tr>\n",
              "      <th>100947</th>\n",
              "      <td>Rutgers</td>\n",
              "      <td>feel like ’ behind prebusiness reqs first year...</td>\n",
              "      <td>0</td>\n",
              "    </tr>\n",
              "    <tr>\n",
              "      <th>...</th>\n",
              "      <td>...</td>\n",
              "      <td>...</td>\n",
              "      <td>...</td>\n",
              "    </tr>\n",
              "    <tr>\n",
              "      <th>145793</th>\n",
              "      <td>UPenn</td>\n",
              "      <td>Picking book course reserve</td>\n",
              "      <td>1</td>\n",
              "    </tr>\n",
              "    <tr>\n",
              "      <th>141527</th>\n",
              "      <td>UPenn</td>\n",
              "      <td>Reliable Summer Storage Options near Penn</td>\n",
              "      <td>1</td>\n",
              "    </tr>\n",
              "    <tr>\n",
              "      <th>141252</th>\n",
              "      <td>UPenn</td>\n",
              "      <td>Anyone Percec Orgo previously</td>\n",
              "      <td>1</td>\n",
              "    </tr>\n",
              "    <tr>\n",
              "      <th>150549</th>\n",
              "      <td>UPenn</td>\n",
              "      <td>Anyone going Boston fall break</td>\n",
              "      <td>1</td>\n",
              "    </tr>\n",
              "    <tr>\n",
              "      <th>148731</th>\n",
              "      <td>UPenn</td>\n",
              "      <td>Penn summer</td>\n",
              "      <td>1</td>\n",
              "    </tr>\n",
              "  </tbody>\n",
              "</table>\n",
              "<p>4000 rows × 3 columns</p>\n",
              "</div>\n",
              "    <div class=\"colab-df-buttons\">\n",
              "\n",
              "  <div class=\"colab-df-container\">\n",
              "    <button class=\"colab-df-convert\" onclick=\"convertToInteractive('df-3aac3f84-b9dc-4fef-a978-2623d23a4517')\"\n",
              "            title=\"Convert this dataframe to an interactive table.\"\n",
              "            style=\"display:none;\">\n",
              "\n",
              "  <svg xmlns=\"http://www.w3.org/2000/svg\" height=\"24px\" viewBox=\"0 -960 960 960\">\n",
              "    <path d=\"M120-120v-720h720v720H120Zm60-500h600v-160H180v160Zm220 220h160v-160H400v160Zm0 220h160v-160H400v160ZM180-400h160v-160H180v160Zm440 0h160v-160H620v160ZM180-180h160v-160H180v160Zm440 0h160v-160H620v160Z\"/>\n",
              "  </svg>\n",
              "    </button>\n",
              "\n",
              "  <style>\n",
              "    .colab-df-container {\n",
              "      display:flex;\n",
              "      gap: 12px;\n",
              "    }\n",
              "\n",
              "    .colab-df-convert {\n",
              "      background-color: #E8F0FE;\n",
              "      border: none;\n",
              "      border-radius: 50%;\n",
              "      cursor: pointer;\n",
              "      display: none;\n",
              "      fill: #1967D2;\n",
              "      height: 32px;\n",
              "      padding: 0 0 0 0;\n",
              "      width: 32px;\n",
              "    }\n",
              "\n",
              "    .colab-df-convert:hover {\n",
              "      background-color: #E2EBFA;\n",
              "      box-shadow: 0px 1px 2px rgba(60, 64, 67, 0.3), 0px 1px 3px 1px rgba(60, 64, 67, 0.15);\n",
              "      fill: #174EA6;\n",
              "    }\n",
              "\n",
              "    .colab-df-buttons div {\n",
              "      margin-bottom: 4px;\n",
              "    }\n",
              "\n",
              "    [theme=dark] .colab-df-convert {\n",
              "      background-color: #3B4455;\n",
              "      fill: #D2E3FC;\n",
              "    }\n",
              "\n",
              "    [theme=dark] .colab-df-convert:hover {\n",
              "      background-color: #434B5C;\n",
              "      box-shadow: 0px 1px 3px 1px rgba(0, 0, 0, 0.15);\n",
              "      filter: drop-shadow(0px 1px 2px rgba(0, 0, 0, 0.3));\n",
              "      fill: #FFFFFF;\n",
              "    }\n",
              "  </style>\n",
              "\n",
              "    <script>\n",
              "      const buttonEl =\n",
              "        document.querySelector('#df-3aac3f84-b9dc-4fef-a978-2623d23a4517 button.colab-df-convert');\n",
              "      buttonEl.style.display =\n",
              "        google.colab.kernel.accessAllowed ? 'block' : 'none';\n",
              "\n",
              "      async function convertToInteractive(key) {\n",
              "        const element = document.querySelector('#df-3aac3f84-b9dc-4fef-a978-2623d23a4517');\n",
              "        const dataTable =\n",
              "          await google.colab.kernel.invokeFunction('convertToInteractive',\n",
              "                                                    [key], {});\n",
              "        if (!dataTable) return;\n",
              "\n",
              "        const docLinkHtml = 'Like what you see? Visit the ' +\n",
              "          '<a target=\"_blank\" href=https://colab.research.google.com/notebooks/data_table.ipynb>data table notebook</a>'\n",
              "          + ' to learn more about interactive tables.';\n",
              "        element.innerHTML = '';\n",
              "        dataTable['output_type'] = 'display_data';\n",
              "        await google.colab.output.renderOutput(dataTable, element);\n",
              "        const docLink = document.createElement('div');\n",
              "        docLink.innerHTML = docLinkHtml;\n",
              "        element.appendChild(docLink);\n",
              "      }\n",
              "    </script>\n",
              "  </div>\n",
              "\n",
              "\n",
              "<div id=\"df-ed6b19f5-e64c-4a62-af11-eb490968cbf6\">\n",
              "  <button class=\"colab-df-quickchart\" onclick=\"quickchart('df-ed6b19f5-e64c-4a62-af11-eb490968cbf6')\"\n",
              "            title=\"Suggest charts\"\n",
              "            style=\"display:none;\">\n",
              "\n",
              "<svg xmlns=\"http://www.w3.org/2000/svg\" height=\"24px\"viewBox=\"0 0 24 24\"\n",
              "     width=\"24px\">\n",
              "    <g>\n",
              "        <path d=\"M19 3H5c-1.1 0-2 .9-2 2v14c0 1.1.9 2 2 2h14c1.1 0 2-.9 2-2V5c0-1.1-.9-2-2-2zM9 17H7v-7h2v7zm4 0h-2V7h2v10zm4 0h-2v-4h2v4z\"/>\n",
              "    </g>\n",
              "</svg>\n",
              "  </button>\n",
              "\n",
              "<style>\n",
              "  .colab-df-quickchart {\n",
              "      --bg-color: #E8F0FE;\n",
              "      --fill-color: #1967D2;\n",
              "      --hover-bg-color: #E2EBFA;\n",
              "      --hover-fill-color: #174EA6;\n",
              "      --disabled-fill-color: #AAA;\n",
              "      --disabled-bg-color: #DDD;\n",
              "  }\n",
              "\n",
              "  [theme=dark] .colab-df-quickchart {\n",
              "      --bg-color: #3B4455;\n",
              "      --fill-color: #D2E3FC;\n",
              "      --hover-bg-color: #434B5C;\n",
              "      --hover-fill-color: #FFFFFF;\n",
              "      --disabled-bg-color: #3B4455;\n",
              "      --disabled-fill-color: #666;\n",
              "  }\n",
              "\n",
              "  .colab-df-quickchart {\n",
              "    background-color: var(--bg-color);\n",
              "    border: none;\n",
              "    border-radius: 50%;\n",
              "    cursor: pointer;\n",
              "    display: none;\n",
              "    fill: var(--fill-color);\n",
              "    height: 32px;\n",
              "    padding: 0;\n",
              "    width: 32px;\n",
              "  }\n",
              "\n",
              "  .colab-df-quickchart:hover {\n",
              "    background-color: var(--hover-bg-color);\n",
              "    box-shadow: 0 1px 2px rgba(60, 64, 67, 0.3), 0 1px 3px 1px rgba(60, 64, 67, 0.15);\n",
              "    fill: var(--button-hover-fill-color);\n",
              "  }\n",
              "\n",
              "  .colab-df-quickchart-complete:disabled,\n",
              "  .colab-df-quickchart-complete:disabled:hover {\n",
              "    background-color: var(--disabled-bg-color);\n",
              "    fill: var(--disabled-fill-color);\n",
              "    box-shadow: none;\n",
              "  }\n",
              "\n",
              "  .colab-df-spinner {\n",
              "    border: 2px solid var(--fill-color);\n",
              "    border-color: transparent;\n",
              "    border-bottom-color: var(--fill-color);\n",
              "    animation:\n",
              "      spin 1s steps(1) infinite;\n",
              "  }\n",
              "\n",
              "  @keyframes spin {\n",
              "    0% {\n",
              "      border-color: transparent;\n",
              "      border-bottom-color: var(--fill-color);\n",
              "      border-left-color: var(--fill-color);\n",
              "    }\n",
              "    20% {\n",
              "      border-color: transparent;\n",
              "      border-left-color: var(--fill-color);\n",
              "      border-top-color: var(--fill-color);\n",
              "    }\n",
              "    30% {\n",
              "      border-color: transparent;\n",
              "      border-left-color: var(--fill-color);\n",
              "      border-top-color: var(--fill-color);\n",
              "      border-right-color: var(--fill-color);\n",
              "    }\n",
              "    40% {\n",
              "      border-color: transparent;\n",
              "      border-right-color: var(--fill-color);\n",
              "      border-top-color: var(--fill-color);\n",
              "    }\n",
              "    60% {\n",
              "      border-color: transparent;\n",
              "      border-right-color: var(--fill-color);\n",
              "    }\n",
              "    80% {\n",
              "      border-color: transparent;\n",
              "      border-right-color: var(--fill-color);\n",
              "      border-bottom-color: var(--fill-color);\n",
              "    }\n",
              "    90% {\n",
              "      border-color: transparent;\n",
              "      border-bottom-color: var(--fill-color);\n",
              "    }\n",
              "  }\n",
              "</style>\n",
              "\n",
              "  <script>\n",
              "    async function quickchart(key) {\n",
              "      const quickchartButtonEl =\n",
              "        document.querySelector('#' + key + ' button');\n",
              "      quickchartButtonEl.disabled = true;  // To prevent multiple clicks.\n",
              "      quickchartButtonEl.classList.add('colab-df-spinner');\n",
              "      try {\n",
              "        const charts = await google.colab.kernel.invokeFunction(\n",
              "            'suggestCharts', [key], {});\n",
              "      } catch (error) {\n",
              "        console.error('Error during call to suggestCharts:', error);\n",
              "      }\n",
              "      quickchartButtonEl.classList.remove('colab-df-spinner');\n",
              "      quickchartButtonEl.classList.add('colab-df-quickchart-complete');\n",
              "    }\n",
              "    (() => {\n",
              "      let quickchartButtonEl =\n",
              "        document.querySelector('#df-ed6b19f5-e64c-4a62-af11-eb490968cbf6 button');\n",
              "      quickchartButtonEl.style.display =\n",
              "        google.colab.kernel.accessAllowed ? 'block' : 'none';\n",
              "    })();\n",
              "  </script>\n",
              "</div>\n",
              "    </div>\n",
              "  </div>\n"
            ],
            "application/vnd.google.colaboratory.intrinsic+json": {
              "type": "dataframe",
              "variable_name": "sampled_data",
              "summary": "{\n  \"name\": \"sampled_data\",\n  \"rows\": 4000,\n  \"fields\": [\n    {\n      \"column\": \"subreddit\",\n      \"properties\": {\n        \"dtype\": \"category\",\n        \"num_unique_values\": 2,\n        \"samples\": [\n          \"UPenn\",\n          \"Rutgers\"\n        ],\n        \"semantic_type\": \"\",\n        \"description\": \"\"\n      }\n    },\n    {\n      \"column\": \"processed_title\",\n      \"properties\": {\n        \"dtype\": \"string\",\n        \"num_unique_values\": 3943,\n        \"samples\": [\n          \"Syllabus\",\n          \"Credit introvertedmadness\"\n        ],\n        \"semantic_type\": \"\",\n        \"description\": \"\"\n      }\n    },\n    {\n      \"column\": \"Encoded Label\",\n      \"properties\": {\n        \"dtype\": \"int8\",\n        \"num_unique_values\": 2,\n        \"samples\": [\n          1,\n          0\n        ],\n        \"semantic_type\": \"\",\n        \"description\": \"\"\n      }\n    }\n  ]\n}"
            }
          },
          "metadata": {},
          "execution_count": 63
        }
      ]
    },
    {
      "cell_type": "code",
      "execution_count": null,
      "metadata": {
        "id": "fbzTuSuLTCRK"
      },
      "outputs": [],
      "source": [
        "from sklearn.feature_extraction.text import TfidfVectorizer\n",
        "\n",
        "# Vectorize the processed titles\n",
        "vectorizer = TfidfVectorizer(max_features=5000)  # Adjust the number of max_features as needed\n",
        "X = vectorizer.fit_transform(df_encoded['processed_title']).toarray()\n",
        "\n",
        "# The labels are already encoded in your 'Encoded Label' column\n",
        "y = df_encoded['Encoded Label'].values\n",
        "\n",
        "# Use the same train-test split you used for the Keras model\n",
        "train_size = 0.70\n",
        "X_train, X_test, y_train, y_test = train_test_split(X, y, stratify=y, train_size=train_size, test_size=0.30, random_state=42)"
      ]
    },
    {
      "cell_type": "code",
      "execution_count": null,
      "metadata": {
        "id": "hsnIlFyzTIHR",
        "colab": {
          "base_uri": "https://localhost:8080/"
        },
        "outputId": "89d6a056-3524-43b4-ef7e-b6e907e40f22"
      },
      "outputs": [
        {
          "output_type": "stream",
          "name": "stdout",
          "text": [
            "Decision Tree Test Accuracy: 0.68\n",
            "Confusion Matrix:\n",
            " [[445 155]\n",
            " [234 366]]\n",
            "Classification Report:\n",
            "               precision    recall  f1-score   support\n",
            "\n",
            "           0       0.66      0.74      0.70       600\n",
            "           1       0.70      0.61      0.65       600\n",
            "\n",
            "    accuracy                           0.68      1200\n",
            "   macro avg       0.68      0.68      0.67      1200\n",
            "weighted avg       0.68      0.68      0.67      1200\n",
            "\n",
            "Logistic Regression Test Accuracy: 0.71\n",
            "Confusion Matrix:\n",
            " [[420 180]\n",
            " [162 438]]\n",
            "Classification Report:\n",
            "               precision    recall  f1-score   support\n",
            "\n",
            "           0       0.72      0.70      0.71       600\n",
            "           1       0.71      0.73      0.72       600\n",
            "\n",
            "    accuracy                           0.71      1200\n",
            "   macro avg       0.72      0.71      0.71      1200\n",
            "weighted avg       0.72      0.71      0.71      1200\n",
            "\n",
            "SVC Test Accuracy: 0.72\n",
            "Confusion Matrix:\n",
            " [[439 161]\n",
            " [170 430]]\n",
            "Classification Report:\n",
            "               precision    recall  f1-score   support\n",
            "\n",
            "           0       0.72      0.73      0.73       600\n",
            "           1       0.73      0.72      0.72       600\n",
            "\n",
            "    accuracy                           0.72      1200\n",
            "   macro avg       0.72      0.72      0.72      1200\n",
            "weighted avg       0.72      0.72      0.72      1200\n",
            "\n",
            "Random Forest Test Accuracy: 0.70\n",
            "Confusion Matrix:\n",
            " [[368 232]\n",
            " [130 470]]\n",
            "Classification Report:\n",
            "               precision    recall  f1-score   support\n",
            "\n",
            "           0       0.74      0.61      0.67       600\n",
            "           1       0.67      0.78      0.72       600\n",
            "\n",
            "    accuracy                           0.70      1200\n",
            "   macro avg       0.70      0.70      0.70      1200\n",
            "weighted avg       0.70      0.70      0.70      1200\n",
            "\n",
            "Naive Bayes Test Accuracy: 0.73\n",
            "Confusion Matrix:\n",
            " [[399 201]\n",
            " [119 481]]\n",
            "Classification Report:\n",
            "               precision    recall  f1-score   support\n",
            "\n",
            "           0       0.77      0.67      0.71       600\n",
            "           1       0.71      0.80      0.75       600\n",
            "\n",
            "    accuracy                           0.73      1200\n",
            "   macro avg       0.74      0.73      0.73      1200\n",
            "weighted avg       0.74      0.73      0.73      1200\n",
            "\n",
            "K-Neighbors Test Accuracy: 0.68\n",
            "Confusion Matrix:\n",
            " [[428 172]\n",
            " [210 390]]\n",
            "Classification Report:\n",
            "               precision    recall  f1-score   support\n",
            "\n",
            "           0       0.67      0.71      0.69       600\n",
            "           1       0.69      0.65      0.67       600\n",
            "\n",
            "    accuracy                           0.68      1200\n",
            "   macro avg       0.68      0.68      0.68      1200\n",
            "weighted avg       0.68      0.68      0.68      1200\n",
            "\n",
            "The best performing model is: Naive Bayes with an accuracy of 0.73\n"
          ]
        }
      ],
      "source": [
        "from sklearn.metrics import confusion_matrix, classification_report, accuracy_score\n",
        "from sklearn.tree import DecisionTreeClassifier\n",
        "from sklearn.linear_model import LogisticRegression\n",
        "from sklearn.svm import SVC\n",
        "from sklearn.ensemble import RandomForestClassifier\n",
        "from sklearn.naive_bayes import BernoulliNB\n",
        "from sklearn.neighbors import KNeighborsClassifier\n",
        "\n",
        "# List of models\n",
        "models = [\n",
        "    DecisionTreeClassifier(),\n",
        "    LogisticRegression(max_iter=1000),\n",
        "    SVC(),\n",
        "    RandomForestClassifier(),\n",
        "    BernoulliNB(),\n",
        "    KNeighborsClassifier()\n",
        "]\n",
        "\n",
        "model_names = [\"Decision Tree\", \"Logistic Regression\", \"SVC\", \"Random Forest\", \"Naive Bayes\", \"K-Neighbors\"]\n",
        "\n",
        "# Initialize dictionary to store accuracies\n",
        "model_accuracies = {}\n",
        "\n",
        "# Training and Evaluating Models\n",
        "for model, name in zip(models, model_names):\n",
        "    model.fit(X_train, y_train)\n",
        "    predictions = model.predict(X_test)\n",
        "    accuracy = accuracy_score(y_test, predictions)\n",
        "    model_accuracies[name] = accuracy  # Store the accuracy in the dictionary\n",
        "    print(f\"{name} Test Accuracy: {accuracy:.2f}\")\n",
        "    print(\"Confusion Matrix:\\n\", confusion_matrix(y_test, predictions))\n",
        "    print(\"Classification Report:\\n\", classification_report(y_test, predictions))\n",
        "\n",
        "# Identify the best performing model\n",
        "best_model_name = max(model_accuracies, key=model_accuracies.get)\n",
        "best_accuracy = model_accuracies[best_model_name]\n",
        "print(f\"The best performing model is: {best_model_name} with an accuracy of {best_accuracy:.2f}\")\n",
        "\n",
        "# Select the best model\n",
        "best_model = models[model_names.index(best_model_name)]"
      ]
    },
    {
      "cell_type": "markdown",
      "metadata": {
        "id": "Jw9peFv0Wi5a"
      },
      "source": [
        "## Grid Search on Best Model"
      ]
    },
    {
      "cell_type": "code",
      "execution_count": null,
      "metadata": {
        "id": "F8zIwfayT_tc",
        "colab": {
          "base_uri": "https://localhost:8080/"
        },
        "outputId": "c7648ed6-3a38-4e20-c46a-6f5db9c8bc99"
      },
      "outputs": [
        {
          "output_type": "stream",
          "name": "stdout",
          "text": [
            "Fitting 5 folds for each of 3 candidates, totalling 15 fits\n",
            "Best Grid Search Parameters: {'alpha': 1.0}\n",
            "Best Grid Search Score: 0.707857142857143\n",
            "Grid Search Test Accuracy: 0.7333333333333333\n",
            "\n",
            "Confusion Matrix:\n",
            " [[399 201]\n",
            " [119 481]]\n",
            "\n",
            "Classification Report:\n",
            "               precision    recall  f1-score   support\n",
            "\n",
            "           0       0.77      0.67      0.71       600\n",
            "           1       0.71      0.80      0.75       600\n",
            "\n",
            "    accuracy                           0.73      1200\n",
            "   macro avg       0.74      0.73      0.73      1200\n",
            "weighted avg       0.74      0.73      0.73      1200\n",
            "\n"
          ]
        }
      ],
      "source": [
        "from sklearn.model_selection import GridSearchCV\n",
        "from sklearn.metrics import confusion_matrix, classification_report, accuracy_score\n",
        "\n",
        "# Define parameter grids for each model\n",
        "param_grids = {\n",
        "    \"Decision Tree\": {\n",
        "        \"max_depth\": [None, 10, 20, 30],\n",
        "        \"min_samples_split\": [2, 5, 10]\n",
        "    },\n",
        "    \"Logistic Regression\": {\n",
        "        \"C\": [0.01, 0.1, 1, 10],\n",
        "        \"penalty\": [\"l2\"],\n",
        "        \"solver\": [\"liblinear\", \"saga\"]\n",
        "    },\n",
        "    \"SVC\": {\n",
        "        \"C\": [0.1, 1, 10],\n",
        "        \"kernel\": [\"rbf\"],\n",
        "        \"gamma\": [\"scale\", \"auto\"]\n",
        "    },\n",
        "    \"Random Forest\": {\n",
        "        \"n_estimators\": [100, 200],\n",
        "        \"max_depth\": [None, 10, 20, 30],\n",
        "        \"min_samples_leaf\": [1, 2, 4]\n",
        "    },\n",
        "    \"Naive Bayes\": {\n",
        "        \"alpha\": [0.1, 1.0, 10.0]\n",
        "    },\n",
        "    \"K-Neighbors\": {\n",
        "        \"n_neighbors\": [3, 5, 7],\n",
        "        \"leaf_size\": [30, 50]\n",
        "    }\n",
        "}\n",
        "\n",
        "# Assume you have a variable `best_model_name` that contains the name of the best model\n",
        "# and `best_model` that contains the model instance from your previous selection process\n",
        "best_params = param_grids[best_model_name]\n",
        "\n",
        "# Setting up GridSearchCV for the best model\n",
        "grid_search = GridSearchCV(best_model, best_params, cv=5, scoring='accuracy', verbose=1)\n",
        "\n",
        "# Fit the grid search to the data\n",
        "grid_search.fit(X_train, y_train)\n",
        "\n",
        "# Output the best parameters and the best score\n",
        "print(\"Best Grid Search Parameters:\", grid_search.best_params_)\n",
        "print(\"Best Grid Search Score:\", grid_search.best_score_)\n",
        "\n",
        "# Evaluate the best grid model on the test set\n",
        "best_grid_model = grid_search.best_estimator_\n",
        "predictions = best_grid_model.predict(X_test)\n",
        "print(\"Grid Search Test Accuracy:\", accuracy_score(y_test, predictions))\n",
        "print(\"\\nConfusion Matrix:\\n\", confusion_matrix(y_test, predictions))\n",
        "print(\"\\nClassification Report:\\n\", classification_report(y_test, predictions))"
      ]
    },
    {
      "cell_type": "markdown",
      "metadata": {
        "id": "jUlVKHcyYAPM"
      },
      "source": [
        "##Evaluate Model Performance"
      ]
    },
    {
      "cell_type": "code",
      "execution_count": null,
      "metadata": {
        "id": "OKZQcxolX7ov"
      },
      "outputs": [],
      "source": [
        "from sklearn.metrics import roc_curve, auc\n",
        "\n",
        "# Predict probabilities for the test data\n",
        "y_scores = best_model.predict_proba(X_test)[:, 1]\n",
        "\n",
        "# Calculate ROC metrics\n",
        "fpr, tpr, thresholds = roc_curve(y_test, y_scores)\n",
        "roc_auc = auc(fpr, tpr)"
      ]
    },
    {
      "cell_type": "code",
      "source": [
        "# Start plotting\n",
        "plt.figure(figsize=(8, 6))\n",
        "plt.plot(fpr, tpr, color='darkorange', lw=2, label=f'ROC curve (area = {roc_auc:.2f})')\n",
        "plt.plot([0, 1], [0, 1], color='navy', lw=2, linestyle='--')\n",
        "plt.xlabel('False Positive Rate')\n",
        "plt.ylabel('True Positive Rate')\n",
        "plt.title('Receiver Operating Characteristic (ROC)')\n",
        "plt.legend(loc=\"lower right\")\n",
        "plt.show()"
      ],
      "metadata": {
        "id": "a-D0BKyYiBVw",
        "colab": {
          "base_uri": "https://localhost:8080/",
          "height": 564
        },
        "outputId": "2a40aa2c-55cd-4b54-dcfe-2bc6c9744c0f"
      },
      "execution_count": null,
      "outputs": [
        {
          "output_type": "display_data",
          "data": {
            "text/plain": [
              "<Figure size 800x600 with 1 Axes>"
            ],
            "image/png": "[encoded data removed]"
          },
          "metadata": {}
        }
      ]
    },
    {
      "cell_type": "markdown",
      "source": [
        "## Confusion Matrix"
      ],
      "metadata": {
        "id": "4wsG0CWSia27"
      }
    },
    {
      "cell_type": "code",
      "source": [
        "# Compute the confusion matrix\n",
        "cm = confusion_matrix(y_test, predictions)\n",
        "\n",
        "# Plotting the confusion matrix\n",
        "plt.figure(figsize=(8, 6))\n",
        "sns.heatmap(cm, annot=True, fmt=\"d\", cmap='Blues')\n",
        "plt.title('Confusion Matrix')\n",
        "plt.ylabel('Actual Label')\n",
        "plt.xlabel('Predicted Label')\n",
        "plt.show()"
      ],
      "metadata": {
        "colab": {
          "base_uri": "https://localhost:8080/",
          "height": 564
        },
        "id": "CZ0t-UZycxgq",
        "outputId": "b781df6e-9d40-4253-b343-0188285fda24"
      },
      "execution_count": null,
      "outputs": [
        {
          "output_type": "display_data",
          "data": {
            "text/plain": [
              "<Figure size 800x600 with 2 Axes>"
            ],
            "image/png": "[encoded data removed]"
          },
          "metadata": {}
        }
      ]
    },
    {
      "cell_type": "markdown",
      "metadata": {
        "id": "2OQUeYekYGGJ"
      },
      "source": [
        "# Keras vs Treditional ML"
      ]
    },
    {
      "cell_type": "markdown",
      "metadata": {
        "id": "mw8yseRKYLAq"
      },
      "source": [
        "#AUC for Both"
      ]
    },
    {
      "cell_type": "code",
      "execution_count": null,
      "metadata": {
        "id": "hV1BVa6qYJJb",
        "colab": {
          "base_uri": "https://localhost:8080/",
          "height": 564
        },
        "outputId": "f48ebe0f-dec7-46ff-b653-494ea1a7830e"
      },
      "outputs": [
        {
          "output_type": "display_data",
          "data": {
            "text/plain": [
              "<Figure size 800x600 with 1 Axes>"
            ],
            "image/png": "[encoded data removed]"
          },
          "metadata": {}
        }
      ],
      "source": [
        "import matplotlib.pyplot as plt\n",
        "\n",
        "# Plot ROC curves for both models\n",
        "plt.figure(figsize=(8, 6))\n",
        "\n",
        "# Plot for the traditional ML model\n",
        "plt.plot(fpr, tpr, label=f'Traditional ML Model (AUC = {roc_auc:.2f})')\n",
        "\n",
        "# Plot for the Keras model\n",
        "plt.plot(fpr_keras, tpr_keras, label=f'Keras Model (AUC = {roc_auc_keras:.2f})')\n",
        "\n",
        "# Plot baseline\n",
        "plt.plot([0, 1], [0, 1], 'k--')\n",
        "\n",
        "# Axes and labels\n",
        "plt.xlabel('False Positive Rate')\n",
        "plt.ylabel('True Positive Rate')\n",
        "plt.title('Receiver Operating Characteristic')\n",
        "plt.legend(loc='lower right')\n",
        "\n",
        "# Show plot\n",
        "plt.show()"
      ]
    }
  ],
  "metadata": {
    "colab": {
      "provenance": [],
      "toc_visible": true
    },
    "kernelspec": {
      "display_name": "Python 3",
      "name": "python3"
    },
    "language_info": {
      "name": "python"
    }
  },
  "nbformat": 4,
  "nbformat_minor": 0
}